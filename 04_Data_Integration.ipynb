{
 "cells": [
  {
   "cell_type": "markdown",
   "id": "c212928c-ed2c-4a4e-a899-a5bcdeb6bd7d",
   "metadata": {},
   "source": [
    "# 04_Data_Integration"
   ]
  },
  {
   "cell_type": "markdown",
   "id": "18f83492-0fb0-469b-9a49-f19390456ec5",
   "metadata": {},
   "source": [
    "## Data marge"
   ]
  },
  {
   "cell_type": "code",
   "execution_count": 1,
   "id": "087cdfdc-c92a-400f-b202-9eb7ee5e9d01",
   "metadata": {},
   "outputs": [],
   "source": [
    "import pandas as pd"
   ]
  },
  {
   "cell_type": "code",
   "execution_count": 2,
   "id": "05e08eb2-fdf4-4b7f-ba5e-db39a8ab3d00",
   "metadata": {},
   "outputs": [],
   "source": [
    "# Dataset 1\n",
    "data1 = {\n",
    "    'NID': [101001, 101002, 101003, 101004, 101005],\n",
    "    'Name': ['Rakib Hasan', 'Tania Akter', 'Monirul Islam', 'Nusrat Jahan', 'Farhan Mahmud'],\n",
    "    'Age': [28, 24, 31, 26, 29],\n",
    "    'District': ['Dhaka', 'Chittagong', 'Rajshahi', 'Khulna', 'Sylhet']\n",
    "}"
   ]
  },
  {
   "cell_type": "code",
   "execution_count": 3,
   "id": "c95eb2f9-ba20-4d05-a879-3a6a8a6a4000",
   "metadata": {},
   "outputs": [
    {
     "data": {
      "text/html": [
       "<div>\n",
       "<style scoped>\n",
       "    .dataframe tbody tr th:only-of-type {\n",
       "        vertical-align: middle;\n",
       "    }\n",
       "\n",
       "    .dataframe tbody tr th {\n",
       "        vertical-align: top;\n",
       "    }\n",
       "\n",
       "    .dataframe thead th {\n",
       "        text-align: right;\n",
       "    }\n",
       "</style>\n",
       "<table border=\"1\" class=\"dataframe\">\n",
       "  <thead>\n",
       "    <tr style=\"text-align: right;\">\n",
       "      <th></th>\n",
       "      <th>NID</th>\n",
       "      <th>Name</th>\n",
       "      <th>Age</th>\n",
       "      <th>District</th>\n",
       "    </tr>\n",
       "  </thead>\n",
       "  <tbody>\n",
       "    <tr>\n",
       "      <th>0</th>\n",
       "      <td>101001</td>\n",
       "      <td>Rakib Hasan</td>\n",
       "      <td>28</td>\n",
       "      <td>Dhaka</td>\n",
       "    </tr>\n",
       "    <tr>\n",
       "      <th>1</th>\n",
       "      <td>101002</td>\n",
       "      <td>Tania Akter</td>\n",
       "      <td>24</td>\n",
       "      <td>Chittagong</td>\n",
       "    </tr>\n",
       "    <tr>\n",
       "      <th>2</th>\n",
       "      <td>101003</td>\n",
       "      <td>Monirul Islam</td>\n",
       "      <td>31</td>\n",
       "      <td>Rajshahi</td>\n",
       "    </tr>\n",
       "    <tr>\n",
       "      <th>3</th>\n",
       "      <td>101004</td>\n",
       "      <td>Nusrat Jahan</td>\n",
       "      <td>26</td>\n",
       "      <td>Khulna</td>\n",
       "    </tr>\n",
       "    <tr>\n",
       "      <th>4</th>\n",
       "      <td>101005</td>\n",
       "      <td>Farhan Mahmud</td>\n",
       "      <td>29</td>\n",
       "      <td>Sylhet</td>\n",
       "    </tr>\n",
       "  </tbody>\n",
       "</table>\n",
       "</div>"
      ],
      "text/plain": [
       "      NID           Name  Age    District\n",
       "0  101001    Rakib Hasan   28       Dhaka\n",
       "1  101002    Tania Akter   24  Chittagong\n",
       "2  101003  Monirul Islam   31    Rajshahi\n",
       "3  101004   Nusrat Jahan   26      Khulna\n",
       "4  101005  Farhan Mahmud   29      Sylhet"
      ]
     },
     "execution_count": 3,
     "metadata": {},
     "output_type": "execute_result"
    }
   ],
   "source": [
    "df1 = pd.DataFrame(data1)\n",
    "df1"
   ]
  },
  {
   "cell_type": "code",
   "execution_count": 4,
   "id": "2957007a-0982-44ea-a75d-ac72423b6e36",
   "metadata": {},
   "outputs": [],
   "source": [
    "# Dataset 2\n",
    "data2 = {\n",
    "    'NID': [101001, 101002, 101003, 101005, 101006],\n",
    "    'Education': ['BSc in CSE', 'MBA', 'HSC', 'MSc in Physics', 'BBA'],\n",
    "    'Occupation': ['Software Engineer', 'Banker', 'Small Business', 'Lecturer', 'Freelancer'],\n",
    "    'Married': ['Yes', 'No', 'Yes', 'No', 'No']\n",
    "}"
   ]
  },
  {
   "cell_type": "code",
   "execution_count": 5,
   "id": "07b7d267-34d0-4877-b07f-4072770dccee",
   "metadata": {},
   "outputs": [
    {
     "data": {
      "text/html": [
       "<div>\n",
       "<style scoped>\n",
       "    .dataframe tbody tr th:only-of-type {\n",
       "        vertical-align: middle;\n",
       "    }\n",
       "\n",
       "    .dataframe tbody tr th {\n",
       "        vertical-align: top;\n",
       "    }\n",
       "\n",
       "    .dataframe thead th {\n",
       "        text-align: right;\n",
       "    }\n",
       "</style>\n",
       "<table border=\"1\" class=\"dataframe\">\n",
       "  <thead>\n",
       "    <tr style=\"text-align: right;\">\n",
       "      <th></th>\n",
       "      <th>NID</th>\n",
       "      <th>Education</th>\n",
       "      <th>Occupation</th>\n",
       "      <th>Married</th>\n",
       "    </tr>\n",
       "  </thead>\n",
       "  <tbody>\n",
       "    <tr>\n",
       "      <th>0</th>\n",
       "      <td>101001</td>\n",
       "      <td>BSc in CSE</td>\n",
       "      <td>Software Engineer</td>\n",
       "      <td>Yes</td>\n",
       "    </tr>\n",
       "    <tr>\n",
       "      <th>1</th>\n",
       "      <td>101002</td>\n",
       "      <td>MBA</td>\n",
       "      <td>Banker</td>\n",
       "      <td>No</td>\n",
       "    </tr>\n",
       "    <tr>\n",
       "      <th>2</th>\n",
       "      <td>101003</td>\n",
       "      <td>HSC</td>\n",
       "      <td>Small Business</td>\n",
       "      <td>Yes</td>\n",
       "    </tr>\n",
       "    <tr>\n",
       "      <th>3</th>\n",
       "      <td>101005</td>\n",
       "      <td>MSc in Physics</td>\n",
       "      <td>Lecturer</td>\n",
       "      <td>No</td>\n",
       "    </tr>\n",
       "    <tr>\n",
       "      <th>4</th>\n",
       "      <td>101006</td>\n",
       "      <td>BBA</td>\n",
       "      <td>Freelancer</td>\n",
       "      <td>No</td>\n",
       "    </tr>\n",
       "  </tbody>\n",
       "</table>\n",
       "</div>"
      ],
      "text/plain": [
       "      NID       Education         Occupation Married\n",
       "0  101001      BSc in CSE  Software Engineer     Yes\n",
       "1  101002             MBA             Banker      No\n",
       "2  101003             HSC     Small Business     Yes\n",
       "3  101005  MSc in Physics           Lecturer      No\n",
       "4  101006             BBA         Freelancer      No"
      ]
     },
     "execution_count": 5,
     "metadata": {},
     "output_type": "execute_result"
    }
   ],
   "source": [
    "df2 = pd.DataFrame(data2)\n",
    "df2"
   ]
  },
  {
   "cell_type": "code",
   "execution_count": 6,
   "id": "c04aee5b-0a3e-4b9d-bbc4-f8cf5f9022d2",
   "metadata": {},
   "outputs": [
    {
     "data": {
      "text/html": [
       "<div>\n",
       "<style scoped>\n",
       "    .dataframe tbody tr th:only-of-type {\n",
       "        vertical-align: middle;\n",
       "    }\n",
       "\n",
       "    .dataframe tbody tr th {\n",
       "        vertical-align: top;\n",
       "    }\n",
       "\n",
       "    .dataframe thead th {\n",
       "        text-align: right;\n",
       "    }\n",
       "</style>\n",
       "<table border=\"1\" class=\"dataframe\">\n",
       "  <thead>\n",
       "    <tr style=\"text-align: right;\">\n",
       "      <th></th>\n",
       "      <th>NID</th>\n",
       "      <th>Name</th>\n",
       "      <th>Age</th>\n",
       "      <th>District</th>\n",
       "      <th>Education</th>\n",
       "      <th>Occupation</th>\n",
       "      <th>Married</th>\n",
       "    </tr>\n",
       "  </thead>\n",
       "  <tbody>\n",
       "    <tr>\n",
       "      <th>0</th>\n",
       "      <td>101001</td>\n",
       "      <td>Rakib Hasan</td>\n",
       "      <td>28</td>\n",
       "      <td>Dhaka</td>\n",
       "      <td>BSc in CSE</td>\n",
       "      <td>Software Engineer</td>\n",
       "      <td>Yes</td>\n",
       "    </tr>\n",
       "    <tr>\n",
       "      <th>1</th>\n",
       "      <td>101002</td>\n",
       "      <td>Tania Akter</td>\n",
       "      <td>24</td>\n",
       "      <td>Chittagong</td>\n",
       "      <td>MBA</td>\n",
       "      <td>Banker</td>\n",
       "      <td>No</td>\n",
       "    </tr>\n",
       "    <tr>\n",
       "      <th>2</th>\n",
       "      <td>101003</td>\n",
       "      <td>Monirul Islam</td>\n",
       "      <td>31</td>\n",
       "      <td>Rajshahi</td>\n",
       "      <td>HSC</td>\n",
       "      <td>Small Business</td>\n",
       "      <td>Yes</td>\n",
       "    </tr>\n",
       "    <tr>\n",
       "      <th>3</th>\n",
       "      <td>101005</td>\n",
       "      <td>Farhan Mahmud</td>\n",
       "      <td>29</td>\n",
       "      <td>Sylhet</td>\n",
       "      <td>MSc in Physics</td>\n",
       "      <td>Lecturer</td>\n",
       "      <td>No</td>\n",
       "    </tr>\n",
       "  </tbody>\n",
       "</table>\n",
       "</div>"
      ],
      "text/plain": [
       "      NID           Name  Age    District       Education         Occupation  \\\n",
       "0  101001    Rakib Hasan   28       Dhaka      BSc in CSE  Software Engineer   \n",
       "1  101002    Tania Akter   24  Chittagong             MBA             Banker   \n",
       "2  101003  Monirul Islam   31    Rajshahi             HSC     Small Business   \n",
       "3  101005  Farhan Mahmud   29      Sylhet  MSc in Physics           Lecturer   \n",
       "\n",
       "  Married  \n",
       "0     Yes  \n",
       "1      No  \n",
       "2     Yes  \n",
       "3      No  "
      ]
     },
     "execution_count": 6,
     "metadata": {},
     "output_type": "execute_result"
    }
   ],
   "source": [
    "# Merge (Inner Join)\n",
    "merged_df = pd.merge(df1, df2, on='NID', how='inner')\n",
    "merged_df"
   ]
  },
  {
   "cell_type": "code",
   "execution_count": 7,
   "id": "c717796f-9319-4524-bfa1-56ace18de0a8",
   "metadata": {},
   "outputs": [
    {
     "data": {
      "text/html": [
       "<div>\n",
       "<style scoped>\n",
       "    .dataframe tbody tr th:only-of-type {\n",
       "        vertical-align: middle;\n",
       "    }\n",
       "\n",
       "    .dataframe tbody tr th {\n",
       "        vertical-align: top;\n",
       "    }\n",
       "\n",
       "    .dataframe thead th {\n",
       "        text-align: right;\n",
       "    }\n",
       "</style>\n",
       "<table border=\"1\" class=\"dataframe\">\n",
       "  <thead>\n",
       "    <tr style=\"text-align: right;\">\n",
       "      <th></th>\n",
       "      <th>NID</th>\n",
       "      <th>Name</th>\n",
       "      <th>Age</th>\n",
       "      <th>District</th>\n",
       "      <th>Education</th>\n",
       "      <th>Occupation</th>\n",
       "      <th>Married</th>\n",
       "    </tr>\n",
       "  </thead>\n",
       "  <tbody>\n",
       "    <tr>\n",
       "      <th>0</th>\n",
       "      <td>101001</td>\n",
       "      <td>Rakib Hasan</td>\n",
       "      <td>28</td>\n",
       "      <td>Dhaka</td>\n",
       "      <td>BSc in CSE</td>\n",
       "      <td>Software Engineer</td>\n",
       "      <td>Yes</td>\n",
       "    </tr>\n",
       "    <tr>\n",
       "      <th>1</th>\n",
       "      <td>101002</td>\n",
       "      <td>Tania Akter</td>\n",
       "      <td>24</td>\n",
       "      <td>Chittagong</td>\n",
       "      <td>MBA</td>\n",
       "      <td>Banker</td>\n",
       "      <td>No</td>\n",
       "    </tr>\n",
       "    <tr>\n",
       "      <th>2</th>\n",
       "      <td>101003</td>\n",
       "      <td>Monirul Islam</td>\n",
       "      <td>31</td>\n",
       "      <td>Rajshahi</td>\n",
       "      <td>HSC</td>\n",
       "      <td>Small Business</td>\n",
       "      <td>Yes</td>\n",
       "    </tr>\n",
       "    <tr>\n",
       "      <th>3</th>\n",
       "      <td>101004</td>\n",
       "      <td>Nusrat Jahan</td>\n",
       "      <td>26</td>\n",
       "      <td>Khulna</td>\n",
       "      <td>NaN</td>\n",
       "      <td>NaN</td>\n",
       "      <td>NaN</td>\n",
       "    </tr>\n",
       "    <tr>\n",
       "      <th>4</th>\n",
       "      <td>101005</td>\n",
       "      <td>Farhan Mahmud</td>\n",
       "      <td>29</td>\n",
       "      <td>Sylhet</td>\n",
       "      <td>MSc in Physics</td>\n",
       "      <td>Lecturer</td>\n",
       "      <td>No</td>\n",
       "    </tr>\n",
       "  </tbody>\n",
       "</table>\n",
       "</div>"
      ],
      "text/plain": [
       "      NID           Name  Age    District       Education         Occupation  \\\n",
       "0  101001    Rakib Hasan   28       Dhaka      BSc in CSE  Software Engineer   \n",
       "1  101002    Tania Akter   24  Chittagong             MBA             Banker   \n",
       "2  101003  Monirul Islam   31    Rajshahi             HSC     Small Business   \n",
       "3  101004   Nusrat Jahan   26      Khulna             NaN                NaN   \n",
       "4  101005  Farhan Mahmud   29      Sylhet  MSc in Physics           Lecturer   \n",
       "\n",
       "  Married  \n",
       "0     Yes  \n",
       "1      No  \n",
       "2     Yes  \n",
       "3     NaN  \n",
       "4      No  "
      ]
     },
     "execution_count": 7,
     "metadata": {},
     "output_type": "execute_result"
    }
   ],
   "source": [
    "# Merge (Left Join)\n",
    "merged_df_left = pd.merge(df1, df2, on='NID', how='left')\n",
    "merged_df_left"
   ]
  },
  {
   "cell_type": "markdown",
   "id": "7efe0436-0a43-4190-9748-8a6063985375",
   "metadata": {},
   "source": [
    "## Concatenation"
   ]
  },
  {
   "cell_type": "code",
   "execution_count": 8,
   "id": "e49f65a7-7571-46b7-b612-f1a0274ee56c",
   "metadata": {},
   "outputs": [],
   "source": [
    "import pandas as pd"
   ]
  },
  {
   "cell_type": "code",
   "execution_count": 9,
   "id": "01f6d720-403a-42a2-8833-f3941c4de4fe",
   "metadata": {},
   "outputs": [],
   "source": [
    "# Dataset 1\n",
    "df3 = pd.DataFrame({\n",
    "    'NID': [101001, 101002],\n",
    "    'Name': ['Rakib Hasan', 'Tania Akter'],\n",
    "    'Age': [28, 24],\n",
    "    'District': ['Dhaka', 'Chittagong']\n",
    "})"
   ]
  },
  {
   "cell_type": "code",
   "execution_count": 10,
   "id": "191102fc-30bb-4727-96d9-10aae128c8ad",
   "metadata": {},
   "outputs": [
    {
     "data": {
      "text/html": [
       "<div>\n",
       "<style scoped>\n",
       "    .dataframe tbody tr th:only-of-type {\n",
       "        vertical-align: middle;\n",
       "    }\n",
       "\n",
       "    .dataframe tbody tr th {\n",
       "        vertical-align: top;\n",
       "    }\n",
       "\n",
       "    .dataframe thead th {\n",
       "        text-align: right;\n",
       "    }\n",
       "</style>\n",
       "<table border=\"1\" class=\"dataframe\">\n",
       "  <thead>\n",
       "    <tr style=\"text-align: right;\">\n",
       "      <th></th>\n",
       "      <th>NID</th>\n",
       "      <th>Name</th>\n",
       "      <th>Age</th>\n",
       "      <th>District</th>\n",
       "    </tr>\n",
       "  </thead>\n",
       "  <tbody>\n",
       "    <tr>\n",
       "      <th>0</th>\n",
       "      <td>101001</td>\n",
       "      <td>Rakib Hasan</td>\n",
       "      <td>28</td>\n",
       "      <td>Dhaka</td>\n",
       "    </tr>\n",
       "    <tr>\n",
       "      <th>1</th>\n",
       "      <td>101002</td>\n",
       "      <td>Tania Akter</td>\n",
       "      <td>24</td>\n",
       "      <td>Chittagong</td>\n",
       "    </tr>\n",
       "  </tbody>\n",
       "</table>\n",
       "</div>"
      ],
      "text/plain": [
       "      NID         Name  Age    District\n",
       "0  101001  Rakib Hasan   28       Dhaka\n",
       "1  101002  Tania Akter   24  Chittagong"
      ]
     },
     "execution_count": 10,
     "metadata": {},
     "output_type": "execute_result"
    }
   ],
   "source": [
    "df3"
   ]
  },
  {
   "cell_type": "code",
   "execution_count": 11,
   "id": "85587093-5385-4174-8005-957775ed2b80",
   "metadata": {},
   "outputs": [],
   "source": [
    "# Dataset 2\n",
    "df4 = pd.DataFrame({\n",
    "    'NID': [101003, 101004],\n",
    "    'Name': ['Monirul Islam', 'Nusrat Jahan'],\n",
    "    'Age': [31, 26],\n",
    "    'District': ['Rajshahi', 'Khulna']\n",
    "})"
   ]
  },
  {
   "cell_type": "code",
   "execution_count": 12,
   "id": "8f7cf745-5110-47fe-a560-edf9ccb260a0",
   "metadata": {},
   "outputs": [
    {
     "data": {
      "text/html": [
       "<div>\n",
       "<style scoped>\n",
       "    .dataframe tbody tr th:only-of-type {\n",
       "        vertical-align: middle;\n",
       "    }\n",
       "\n",
       "    .dataframe tbody tr th {\n",
       "        vertical-align: top;\n",
       "    }\n",
       "\n",
       "    .dataframe thead th {\n",
       "        text-align: right;\n",
       "    }\n",
       "</style>\n",
       "<table border=\"1\" class=\"dataframe\">\n",
       "  <thead>\n",
       "    <tr style=\"text-align: right;\">\n",
       "      <th></th>\n",
       "      <th>NID</th>\n",
       "      <th>Name</th>\n",
       "      <th>Age</th>\n",
       "      <th>District</th>\n",
       "    </tr>\n",
       "  </thead>\n",
       "  <tbody>\n",
       "    <tr>\n",
       "      <th>0</th>\n",
       "      <td>101003</td>\n",
       "      <td>Monirul Islam</td>\n",
       "      <td>31</td>\n",
       "      <td>Rajshahi</td>\n",
       "    </tr>\n",
       "    <tr>\n",
       "      <th>1</th>\n",
       "      <td>101004</td>\n",
       "      <td>Nusrat Jahan</td>\n",
       "      <td>26</td>\n",
       "      <td>Khulna</td>\n",
       "    </tr>\n",
       "  </tbody>\n",
       "</table>\n",
       "</div>"
      ],
      "text/plain": [
       "      NID           Name  Age  District\n",
       "0  101003  Monirul Islam   31  Rajshahi\n",
       "1  101004   Nusrat Jahan   26    Khulna"
      ]
     },
     "execution_count": 12,
     "metadata": {},
     "output_type": "execute_result"
    }
   ],
   "source": [
    "df4"
   ]
  },
  {
   "cell_type": "code",
   "execution_count": 13,
   "id": "9945a306-fc95-478e-9f8e-569f596dfae9",
   "metadata": {},
   "outputs": [
    {
     "name": "stdout",
     "output_type": "stream",
     "text": [
      "Vertical Concatenation:\n"
     ]
    },
    {
     "data": {
      "text/html": [
       "<div>\n",
       "<style scoped>\n",
       "    .dataframe tbody tr th:only-of-type {\n",
       "        vertical-align: middle;\n",
       "    }\n",
       "\n",
       "    .dataframe tbody tr th {\n",
       "        vertical-align: top;\n",
       "    }\n",
       "\n",
       "    .dataframe thead th {\n",
       "        text-align: right;\n",
       "    }\n",
       "</style>\n",
       "<table border=\"1\" class=\"dataframe\">\n",
       "  <thead>\n",
       "    <tr style=\"text-align: right;\">\n",
       "      <th></th>\n",
       "      <th>NID</th>\n",
       "      <th>Name</th>\n",
       "      <th>Age</th>\n",
       "      <th>District</th>\n",
       "    </tr>\n",
       "  </thead>\n",
       "  <tbody>\n",
       "    <tr>\n",
       "      <th>0</th>\n",
       "      <td>101001</td>\n",
       "      <td>Rakib Hasan</td>\n",
       "      <td>28</td>\n",
       "      <td>Dhaka</td>\n",
       "    </tr>\n",
       "    <tr>\n",
       "      <th>1</th>\n",
       "      <td>101002</td>\n",
       "      <td>Tania Akter</td>\n",
       "      <td>24</td>\n",
       "      <td>Chittagong</td>\n",
       "    </tr>\n",
       "    <tr>\n",
       "      <th>2</th>\n",
       "      <td>101003</td>\n",
       "      <td>Monirul Islam</td>\n",
       "      <td>31</td>\n",
       "      <td>Rajshahi</td>\n",
       "    </tr>\n",
       "    <tr>\n",
       "      <th>3</th>\n",
       "      <td>101004</td>\n",
       "      <td>Nusrat Jahan</td>\n",
       "      <td>26</td>\n",
       "      <td>Khulna</td>\n",
       "    </tr>\n",
       "  </tbody>\n",
       "</table>\n",
       "</div>"
      ],
      "text/plain": [
       "      NID           Name  Age    District\n",
       "0  101001    Rakib Hasan   28       Dhaka\n",
       "1  101002    Tania Akter   24  Chittagong\n",
       "2  101003  Monirul Islam   31    Rajshahi\n",
       "3  101004   Nusrat Jahan   26      Khulna"
      ]
     },
     "execution_count": 13,
     "metadata": {},
     "output_type": "execute_result"
    }
   ],
   "source": [
    "# Concatenate rows (default axis=0)\n",
    "concat_rows = pd.concat([df3, df4], ignore_index=True)\n",
    "print(\"Vertical Concatenation:\")\n",
    "concat_rows"
   ]
  },
  {
   "cell_type": "code",
   "execution_count": 14,
   "id": "66fbbbca-9edb-450c-bee1-94bed5547b84",
   "metadata": {},
   "outputs": [
    {
     "name": "stdout",
     "output_type": "stream",
     "text": [
      "Horizontal Concatenation:\n",
      "\n"
     ]
    },
    {
     "data": {
      "text/html": [
       "<div>\n",
       "<style scoped>\n",
       "    .dataframe tbody tr th:only-of-type {\n",
       "        vertical-align: middle;\n",
       "    }\n",
       "\n",
       "    .dataframe tbody tr th {\n",
       "        vertical-align: top;\n",
       "    }\n",
       "\n",
       "    .dataframe thead th {\n",
       "        text-align: right;\n",
       "    }\n",
       "</style>\n",
       "<table border=\"1\" class=\"dataframe\">\n",
       "  <thead>\n",
       "    <tr style=\"text-align: right;\">\n",
       "      <th></th>\n",
       "      <th>NID</th>\n",
       "      <th>Name</th>\n",
       "      <th>Age</th>\n",
       "      <th>District</th>\n",
       "      <th>NID</th>\n",
       "      <th>Name</th>\n",
       "      <th>Age</th>\n",
       "      <th>District</th>\n",
       "    </tr>\n",
       "  </thead>\n",
       "  <tbody>\n",
       "    <tr>\n",
       "      <th>0</th>\n",
       "      <td>101001</td>\n",
       "      <td>Rakib Hasan</td>\n",
       "      <td>28</td>\n",
       "      <td>Dhaka</td>\n",
       "      <td>101003</td>\n",
       "      <td>Monirul Islam</td>\n",
       "      <td>31</td>\n",
       "      <td>Rajshahi</td>\n",
       "    </tr>\n",
       "    <tr>\n",
       "      <th>1</th>\n",
       "      <td>101002</td>\n",
       "      <td>Tania Akter</td>\n",
       "      <td>24</td>\n",
       "      <td>Chittagong</td>\n",
       "      <td>101004</td>\n",
       "      <td>Nusrat Jahan</td>\n",
       "      <td>26</td>\n",
       "      <td>Khulna</td>\n",
       "    </tr>\n",
       "  </tbody>\n",
       "</table>\n",
       "</div>"
      ],
      "text/plain": [
       "      NID         Name  Age    District     NID           Name  Age  District\n",
       "0  101001  Rakib Hasan   28       Dhaka  101003  Monirul Islam   31  Rajshahi\n",
       "1  101002  Tania Akter   24  Chittagong  101004   Nusrat Jahan   26    Khulna"
      ]
     },
     "execution_count": 14,
     "metadata": {},
     "output_type": "execute_result"
    }
   ],
   "source": [
    "# Horizontal concat (axis=1)\n",
    "concat_columns = pd.concat([df3, df4], axis=1)\n",
    "print(\"Horizontal Concatenation:\\n\")\n",
    "concat_columns"
   ]
  },
  {
   "cell_type": "code",
   "execution_count": null,
   "id": "dabfb897-0f60-4736-9fb3-4acf4b6e194b",
   "metadata": {},
   "outputs": [],
   "source": []
  }
 ],
 "metadata": {
  "kernelspec": {
   "display_name": "Python 3 (ipykernel)",
   "language": "python",
   "name": "python3"
  },
  "language_info": {
   "codemirror_mode": {
    "name": "ipython",
    "version": 3
   },
   "file_extension": ".py",
   "mimetype": "text/x-python",
   "name": "python",
   "nbconvert_exporter": "python",
   "pygments_lexer": "ipython3",
   "version": "3.13.5"
  },
  "widgets": {
   "application/vnd.jupyter.widget-state+json": {
    "state": {},
    "version_major": 2,
    "version_minor": 0
   }
  }
 },
 "nbformat": 4,
 "nbformat_minor": 5
}
