{
 "cells": [
  {
   "cell_type": "markdown",
   "id": "c9983ba6-493a-4e55-a582-3b8b27971fe4",
   "metadata": {},
   "source": [
    "# Machine Learning 21: Datasets: Imbalanced datasets"
   ]
  },
  {
   "cell_type": "markdown",
   "id": "fb0d1e31-d7ad-4a7a-b1f7-97142dd3b47a",
   "metadata": {},
   "source": [
    "### 🔹 What is an Imbalanced Dataset?\n",
    "\n",
    "An **imbalanced dataset** occurs when the distribution of target classes is not equal.\n",
    "For example:\n",
    "\n",
    "* Fraud detection: 99% normal transactions, 1% fraudulent\n",
    "* Disease detection: 95% healthy, 5% diseased\n",
    "* Spam classification: 80% ham, 20% spam\n",
    "\n",
    "This imbalance causes machine learning models to be **biased towards the majority class**, because predicting the majority class yields high accuracy even without learning meaningful patterns.\n",
    "\n",
    "\n",
    "#### 📊 **Why Imbalanced Datasets Are Problematic**\n",
    "\n",
    "* **Misleading Accuracy**: High accuracy but poor performance on minority class.\n",
    "* **Bias Toward Majority Class**: Models learn to favor the dominant class.\n",
    "* **Poor Generalization**: Especially in sensitive applications (e.g., fraud detection, disease diagnosis).\n",
    "\n",
    "#### ✅ **Types of Imbalance**\n",
    "\n",
    "1. **Binary Class Imbalance** – Two classes (e.g., spam vs not spam).\n",
    "2. **Multiclass Imbalance** – More than two classes with unequal distribution.\n",
    "3. **Within-Class Imbalance** – Some instances within the same class are underrepresented (e.g., rare subtypes in medical data).\n",
    "\n",
    "#### 🔍 **Evaluation Metrics for Imbalanced Data**\n",
    "\n",
    "Accuracy is **not** reliable. Use the following:\n",
    "\n",
    "| Metric                   | Formula                                           | Focus                                |\n",
    "| ------------------------ | ------------------------------------------------- | ------------------------------------ |\n",
    "| **Precision**            | TP / (TP + FP)                                    | Accuracy of positive prediction      |\n",
    "| **Recall (Sensitivity)** | TP / (TP + FN)                                    | Ability to detect positive class     |\n",
    "| **F1 Score**             | 2 \\* (Precision \\* Recall) / (Precision + Recall) | Balance between precision and recall |\n",
    "| **ROC-AUC**              | Area under ROC curve                              | Trade-off between TPR and FPR        |\n",
    "| **Confusion Matrix**     | TP, TN, FP, FN                                    | Visualizes prediction performance    |\n",
    "\n",
    "#### ⚙️ **Strategies to Handle Imbalanced Data**\n",
    "\n",
    "**A. Data-Level Approaches**\n",
    "\n",
    "* **Oversampling**: Add more minority class samples.\n",
    "\n",
    "  * *RandomOverSampler*\n",
    "  * *SMOTE* (Synthetic Minority Oversampling Technique)\n",
    "* **Undersampling**: Remove majority class samples.\n",
    "\n",
    "  * *RandomUnderSampler*\n",
    "  * *Tomek Links*, *Edited Nearest Neighbors (ENN)*\n",
    "\n",
    "**B. Algorithm-Level Approaches**\n",
    "\n",
    "* **Class Weight Adjustment**: Penalize wrong predictions of minority class more heavily.\n",
    "* **Cost-Sensitive Learning**: Modify loss functions to incorporate imbalance.\n",
    "\n",
    "**C. Ensemble Techniques**\n",
    "\n",
    "* **BalancedBaggingClassifier**\n",
    "* **EasyEnsemble, RUSBoost**: Combine under/oversampling with boosting.\n",
    "\n",
    "**D. Anomaly Detection Approaches**\n",
    "\n",
    "* Treat rare class as anomaly (e.g., one-class SVM, Isolation Forest)."
   ]
  },
  {
   "cell_type": "code",
   "execution_count": 1,
   "id": "48506a75-1c62-4db7-b9a5-e708172cf821",
   "metadata": {},
   "outputs": [],
   "source": [
    "# imbalanced datasets in machine learning using Python and relevant libraries.\n",
    "\n",
    "import pandas as pd\n",
    "import matplotlib.pyplot as plt\n",
    "from sklearn.model_selection import train_test_split\n",
    "from sklearn.linear_model import LogisticRegression\n",
    "from sklearn.metrics import classification_report, confusion_matrix \n",
    "from imblearn.under_sampling import RandomUnderSampler\n",
    "from imblearn.over_sampling import RandomOverSampler"
   ]
  },
  {
   "cell_type": "code",
   "execution_count": 2,
   "id": "b583b584-f1b6-4c9e-aeb7-eba328bb9fe0",
   "metadata": {},
   "outputs": [],
   "source": [
    "# Load the dataset\n",
    "df = pd.read_csv(\"Social_Network_Ads.csv\")"
   ]
  },
  {
   "cell_type": "code",
   "execution_count": 3,
   "id": "1eb842ed",
   "metadata": {},
   "outputs": [],
   "source": [
    "# drop irrelevant columns\n",
    "df.drop(columns = [\"Gender\",\"User ID\"], inplace = True)"
   ]
  },
  {
   "cell_type": "code",
   "execution_count": 4,
   "id": "a92dd023-84f8-4340-9fb0-e9078bba6ad7",
   "metadata": {},
   "outputs": [
    {
     "data": {
      "text/html": [
       "<div>\n",
       "<style scoped>\n",
       "    .dataframe tbody tr th:only-of-type {\n",
       "        vertical-align: middle;\n",
       "    }\n",
       "\n",
       "    .dataframe tbody tr th {\n",
       "        vertical-align: top;\n",
       "    }\n",
       "\n",
       "    .dataframe thead th {\n",
       "        text-align: right;\n",
       "    }\n",
       "</style>\n",
       "<table border=\"1\" class=\"dataframe\">\n",
       "  <thead>\n",
       "    <tr style=\"text-align: right;\">\n",
       "      <th></th>\n",
       "      <th>Age</th>\n",
       "      <th>EstimatedSalary</th>\n",
       "      <th>Purchased</th>\n",
       "    </tr>\n",
       "  </thead>\n",
       "  <tbody>\n",
       "    <tr>\n",
       "      <th>0</th>\n",
       "      <td>19</td>\n",
       "      <td>19000</td>\n",
       "      <td>0</td>\n",
       "    </tr>\n",
       "    <tr>\n",
       "      <th>1</th>\n",
       "      <td>35</td>\n",
       "      <td>20000</td>\n",
       "      <td>0</td>\n",
       "    </tr>\n",
       "    <tr>\n",
       "      <th>2</th>\n",
       "      <td>26</td>\n",
       "      <td>43000</td>\n",
       "      <td>0</td>\n",
       "    </tr>\n",
       "    <tr>\n",
       "      <th>3</th>\n",
       "      <td>27</td>\n",
       "      <td>57000</td>\n",
       "      <td>0</td>\n",
       "    </tr>\n",
       "    <tr>\n",
       "      <th>4</th>\n",
       "      <td>19</td>\n",
       "      <td>76000</td>\n",
       "      <td>0</td>\n",
       "    </tr>\n",
       "    <tr>\n",
       "      <th>5</th>\n",
       "      <td>27</td>\n",
       "      <td>58000</td>\n",
       "      <td>0</td>\n",
       "    </tr>\n",
       "    <tr>\n",
       "      <th>6</th>\n",
       "      <td>27</td>\n",
       "      <td>84000</td>\n",
       "      <td>0</td>\n",
       "    </tr>\n",
       "    <tr>\n",
       "      <th>7</th>\n",
       "      <td>32</td>\n",
       "      <td>150000</td>\n",
       "      <td>1</td>\n",
       "    </tr>\n",
       "    <tr>\n",
       "      <th>8</th>\n",
       "      <td>25</td>\n",
       "      <td>33000</td>\n",
       "      <td>0</td>\n",
       "    </tr>\n",
       "    <tr>\n",
       "      <th>9</th>\n",
       "      <td>35</td>\n",
       "      <td>65000</td>\n",
       "      <td>0</td>\n",
       "    </tr>\n",
       "  </tbody>\n",
       "</table>\n",
       "</div>"
      ],
      "text/plain": [
       "   Age  EstimatedSalary  Purchased\n",
       "0   19            19000          0\n",
       "1   35            20000          0\n",
       "2   26            43000          0\n",
       "3   27            57000          0\n",
       "4   19            76000          0\n",
       "5   27            58000          0\n",
       "6   27            84000          0\n",
       "7   32           150000          1\n",
       "8   25            33000          0\n",
       "9   35            65000          0"
      ]
     },
     "execution_count": 4,
     "metadata": {},
     "output_type": "execute_result"
    }
   ],
   "source": [
    "df.head(10)"
   ]
  },
  {
   "cell_type": "code",
   "execution_count": 5,
   "id": "ea442287-9466-44cf-9611-2d6ecd7145d6",
   "metadata": {},
   "outputs": [
    {
     "data": {
      "image/png": "[encoded data removed]",
      "text/plain": [
       "<Figure size 640x480 with 1 Axes>"
      ]
     },
     "metadata": {},
     "output_type": "display_data"
    }
   ],
   "source": [
    "df[\"Purchased\"].value_counts().plot(kind = \"bar\")\n",
    "plt.show()"
   ]
  },
  {
   "cell_type": "code",
   "execution_count": 6,
   "id": "53ccd2c7",
   "metadata": {},
   "outputs": [],
   "source": [
    "# Split the data into features and target variable\n",
    "\n",
    "X = df.drop(columns = [\"Purchased\"])\n",
    "y = df[\"Purchased\"]"
   ]
  },
  {
   "cell_type": "code",
   "execution_count": 7,
   "id": "8b289eb6",
   "metadata": {},
   "outputs": [],
   "source": [
    "# Split the dataset into training and testing sets\n",
    "X_train, X_test, y_train, y_test = train_test_split(X, y, test_size=0.3, random_state=42, stratify=y)"
   ]
  },
  {
   "cell_type": "code",
   "execution_count": 8,
   "id": "640510f4-e9da-49a3-88b8-44f9219f8d06",
   "metadata": {},
   "outputs": [],
   "source": [
    "# Function to train and evaluate the model\n",
    "\n",
    "def train_evaluate_model(X_train, y_train, X_test, y_test): \n",
    "    model = LogisticRegression()\n",
    "    model.fit(X_train, y_train)\n",
    "    y_pred = model.predict(X_test)\n",
    "    print(confusion_matrix(y_test, y_pred))\n",
    "    print(classification_report(y_test, y_pred))"
   ]
  },
  {
   "cell_type": "code",
   "execution_count": 9,
   "id": "c4791576-b09b-49f8-b617-7d525e670511",
   "metadata": {},
   "outputs": [
    {
     "name": "stdout",
     "output_type": "stream",
     "text": [
      "Original Dataset:\n",
      "[[71  6]\n",
      " [13 30]]\n",
      "              precision    recall  f1-score   support\n",
      "\n",
      "           0       0.85      0.92      0.88        77\n",
      "           1       0.83      0.70      0.76        43\n",
      "\n",
      "    accuracy                           0.84       120\n",
      "   macro avg       0.84      0.81      0.82       120\n",
      "weighted avg       0.84      0.84      0.84       120\n",
      "\n"
     ]
    }
   ],
   "source": [
    "# Train and evaluate the model on the original imbalanced dataset\n",
    "\n",
    "print(\"Original Dataset:\")\n",
    "train_evaluate_model(X_train, y_train, X_test, y_test)\n"
   ]
  },
  {
   "cell_type": "code",
   "execution_count": 10,
   "id": "c523ee20-1096-43f9-ba52-32266cbfe61d",
   "metadata": {},
   "outputs": [
    {
     "name": "stdout",
     "output_type": "stream",
     "text": [
      "Class distribution in training set:\n",
      "Purchased\n",
      "0    180\n",
      "1    100\n",
      "Name: count, dtype: int64\n"
     ]
    }
   ],
   "source": [
    "#confusion matrix and classification report show poor performance on the minority class.\n",
    "# Now we will apply Random Under-Sampling and Random Over-Sampling to handle the class imbalance.\n",
    "# Check the class distribution in the training set\n",
    "print(\"Class distribution in training set:\")\n",
    "print(y_train.value_counts())"
   ]
  },
  {
   "cell_type": "code",
   "execution_count": 11,
   "id": "4b5c2cc1-e0d8-49fb-b9ac-1d7550d05991",
   "metadata": {},
   "outputs": [
    {
     "name": "stdout",
     "output_type": "stream",
     "text": [
      "After Random Under-Sampling:\n",
      "[[63 14]\n",
      " [ 8 35]]\n",
      "              precision    recall  f1-score   support\n",
      "\n",
      "           0       0.89      0.82      0.85        77\n",
      "           1       0.71      0.81      0.76        43\n",
      "\n",
      "    accuracy                           0.82       120\n",
      "   macro avg       0.80      0.82      0.81       120\n",
      "weighted avg       0.83      0.82      0.82       120\n",
      "\n"
     ]
    }
   ],
   "source": [
    "# Apply Random Under-Sampling\n",
    "rus = RandomUnderSampler(random_state=42)\n",
    "X_res, y_res = rus.fit_resample(X_train, y_train)\n",
    "print(\"After Random Under-Sampling:\")\n",
    "train_evaluate_model(X_res, y_res, X_test, y_test)"
   ]
  },
  {
   "cell_type": "code",
   "execution_count": 12,
   "id": "a19526bf",
   "metadata": {},
   "outputs": [
    {
     "name": "stdout",
     "output_type": "stream",
     "text": [
      "After Random Over-Sampling:\n",
      "[[61 16]\n",
      " [ 7 36]]\n",
      "              precision    recall  f1-score   support\n",
      "\n",
      "           0       0.90      0.79      0.84        77\n",
      "           1       0.69      0.84      0.76        43\n",
      "\n",
      "    accuracy                           0.81       120\n",
      "   macro avg       0.79      0.81      0.80       120\n",
      "weighted avg       0.82      0.81      0.81       120\n",
      "\n"
     ]
    }
   ],
   "source": [
    "# Apply Random Over-Sampling\n",
    "ros = RandomOverSampler(random_state=42)\n",
    "X_res, y_res = ros.fit_resample(X_train, y_train)\n",
    "print(\"After Random Over-Sampling:\")\n",
    "train_evaluate_model(X_res, y_res, X_test, y_test)"
   ]
  },
  {
   "cell_type": "code",
   "execution_count": 13,
   "id": "a968ff6b-8fd8-4668-9e4a-480111593fcf",
   "metadata": {},
   "outputs": [
    {
     "name": "stdout",
     "output_type": "stream",
     "text": [
      "Class distribution after resampling:\n",
      "Purchased\n",
      "0    180\n",
      "1    180\n",
      "Name: count, dtype: int64\n"
     ]
    }
   ],
   "source": [
    "# Check the class distribution after resampling\n",
    "print(\"Class distribution after resampling:\")\n",
    "print(y_res.value_counts()) "
   ]
  },
  {
   "cell_type": "code",
   "execution_count": 14,
   "id": "ba704761",
   "metadata": {},
   "outputs": [
    {
     "data": {
      "image/png": "[encoded data removed]",
      "text/plain": [
       "<Figure size 800x500 with 1 Axes>"
      ]
     },
     "metadata": {},
     "output_type": "display_data"
    }
   ],
   "source": [
    "# Visualize the class distribution after resampling\n",
    "plt.figure(figsize=(8, 5))\n",
    "plt.title(\"Class Distribution After Resampling\")\n",
    "plt.xlabel(\"Purchased\")\n",
    "plt.ylabel(\"Count\")\n",
    "y_res = pd.Series(y_res)\n",
    "y_res.value_counts().plot(kind = \"bar\")\n",
    "plt.show()"
   ]
  },
  {
   "cell_type": "code",
   "execution_count": null,
   "id": "4c0032fa",
   "metadata": {},
   "outputs": [],
   "source": []
  },
  {
   "cell_type": "code",
   "execution_count": null,
   "id": "9968144a-c9f3-453d-81a4-b906882bc1f8",
   "metadata": {},
   "outputs": [],
   "source": []
  }
 ],
 "metadata": {
  "kernelspec": {
   "display_name": "Python 3",
   "language": "python",
   "name": "python3"
  },
  "language_info": {
   "codemirror_mode": {
    "name": "ipython",
    "version": 3
   },
   "file_extension": ".py",
   "mimetype": "text/x-python",
   "name": "python",
   "nbconvert_exporter": "python",
   "pygments_lexer": "ipython3",
   "version": "3.13.7"
  },
  "widgets": {
   "application/vnd.jupyter.widget-state+json": {
    "state": {},
    "version_major": 2,
    "version_minor": 0
   }
  }
 },
 "nbformat": 4,
 "nbformat_minor": 5
}
