{
 "cells": [
  {
   "cell_type": "markdown",
   "id": "a3e90269-844e-4faf-bc15-e4003ac7a254",
   "metadata": {},
   "source": [
    "## What is Standardization?\n",
    "Standardization is one type of feature scaling where the features are rescaled so that they have:\n",
    "Mean (μ) = 0\n",
    "Standard deviation (σ) = 1\n",
    "\n",
    "The formula for standardization is:  $z = \\frac{x - \\mu}{\\sigma}$\n",
    "\n",
    "Where:  \n",
    "- x is the original value,\n",
    "- μ is the mean of the feature,\n",
    "- σ is the standard deviation of the feature,\n",
    "- z is the standardized value.\n",
    "## Why is Standardization Important?\n",
    "1. Equal Treatment of Features: Features with larger scales can dominate the model if not scaled properly.\n",
    "2. Faster Convergence: For gradient-based algorithms (like logistic regression, neural networks), it helps the model converge faster.\n",
    "9. Improves Model Performance: Algorithms like SVMs and KNN rely on distance metrics, and unscaled features can skew distance calculations.\n",
    "4.Regularization Works Better: Techniques like Lasso and Ridge regression are sensitive to the scale of features.\n",
    "\n",
    "## When to Use Standardization?\n",
    "When your data follows a Gaussian (normal) distribution.\n",
    "When using algorithms sensitive to feature scale, such as:\n",
    "\n",
    "1. Logistic Regression\n",
    "2. SVM\n",
    "3. K-Means\n",
    "4. KNN\n",
    "5. PCA (Principal Component Analysis)\n",
    "6. Neural Networks"
   ]
  },
  {
   "cell_type": "code",
   "execution_count": 5,
   "id": "08d108bd-03ec-457a-9020-55efc4172537",
   "metadata": {},
   "outputs": [],
   "source": [
    "from sklearn.preprocessing import StandardScaler\n",
    "import pandas as pd \n",
    "import seaborn as sns\n",
    "import matplotlib.pyplot as plt"
   ]
  },
  {
   "cell_type": "code",
   "execution_count": 2,
   "id": "7249ae58-d7ed-4b67-94ff-43886dbd0a10",
   "metadata": {},
   "outputs": [],
   "source": [
    "# Example data\n",
    "data = {\n",
    "    'income': [40000, 50000, 60000, 80000,10000],\n",
    "    'loan_amount': [10000, 15000, 20000, 25000,30000]\n",
    "}"
   ]
  },
  {
   "cell_type": "code",
   "execution_count": 3,
   "id": "9cf77733-4648-4a74-9b1a-b92df49a31c7",
   "metadata": {},
   "outputs": [
    {
     "data": {
      "text/html": [
       "<div>\n",
       "<style scoped>\n",
       "    .dataframe tbody tr th:only-of-type {\n",
       "        vertical-align: middle;\n",
       "    }\n",
       "\n",
       "    .dataframe tbody tr th {\n",
       "        vertical-align: top;\n",
       "    }\n",
       "\n",
       "    .dataframe thead th {\n",
       "        text-align: right;\n",
       "    }\n",
       "</style>\n",
       "<table border=\"1\" class=\"dataframe\">\n",
       "  <thead>\n",
       "    <tr style=\"text-align: right;\">\n",
       "      <th></th>\n",
       "      <th>income</th>\n",
       "      <th>loan_amount</th>\n",
       "    </tr>\n",
       "  </thead>\n",
       "  <tbody>\n",
       "    <tr>\n",
       "      <th>0</th>\n",
       "      <td>40000</td>\n",
       "      <td>10000</td>\n",
       "    </tr>\n",
       "    <tr>\n",
       "      <th>1</th>\n",
       "      <td>50000</td>\n",
       "      <td>15000</td>\n",
       "    </tr>\n",
       "    <tr>\n",
       "      <th>2</th>\n",
       "      <td>60000</td>\n",
       "      <td>20000</td>\n",
       "    </tr>\n",
       "    <tr>\n",
       "      <th>3</th>\n",
       "      <td>80000</td>\n",
       "      <td>25000</td>\n",
       "    </tr>\n",
       "    <tr>\n",
       "      <th>4</th>\n",
       "      <td>10000</td>\n",
       "      <td>30000</td>\n",
       "    </tr>\n",
       "  </tbody>\n",
       "</table>\n",
       "</div>"
      ],
      "text/plain": [
       "   income  loan_amount\n",
       "0   40000        10000\n",
       "1   50000        15000\n",
       "2   60000        20000\n",
       "3   80000        25000\n",
       "4   10000        30000"
      ]
     },
     "execution_count": 3,
     "metadata": {},
     "output_type": "execute_result"
    }
   ],
   "source": [
    "df = pd.DataFrame(data)\n",
    "df"
   ]
  },
  {
   "cell_type": "code",
   "execution_count": 8,
   "id": "48ac892f-2dda-4774-9be7-a4c4e913424c",
   "metadata": {},
   "outputs": [],
   "source": [
    "# Create StandardScaler object\n",
    "scaler = StandardScaler()"
   ]
  },
  {
   "cell_type": "code",
   "execution_count": 9,
   "id": "7f6c9b82-e46e-4cf6-be78-4e7093b8b90e",
   "metadata": {},
   "outputs": [],
   "source": [
    "# Fit and transform the data\n",
    "standardized_data = scaler.fit_transform(df)"
   ]
  },
  {
   "cell_type": "code",
   "execution_count": 10,
   "id": "0493231f-1b1d-43d1-8764-ce5e713372f5",
   "metadata": {},
   "outputs": [],
   "source": [
    "# Create DataFrame with standardized values\n",
    "standardized_df = pd.DataFrame(standardized_data, columns=df.columns)"
   ]
  },
  {
   "cell_type": "code",
   "execution_count": 11,
   "id": "71dfd6b3-296a-4ba9-af93-ae7149a6cf10",
   "metadata": {},
   "outputs": [
    {
     "data": {
      "text/html": [
       "<div>\n",
       "<style scoped>\n",
       "    .dataframe tbody tr th:only-of-type {\n",
       "        vertical-align: middle;\n",
       "    }\n",
       "\n",
       "    .dataframe tbody tr th {\n",
       "        vertical-align: top;\n",
       "    }\n",
       "\n",
       "    .dataframe thead th {\n",
       "        text-align: right;\n",
       "    }\n",
       "</style>\n",
       "<table border=\"1\" class=\"dataframe\">\n",
       "  <thead>\n",
       "    <tr style=\"text-align: right;\">\n",
       "      <th></th>\n",
       "      <th>income</th>\n",
       "      <th>loan_amount</th>\n",
       "    </tr>\n",
       "  </thead>\n",
       "  <tbody>\n",
       "    <tr>\n",
       "      <th>0</th>\n",
       "      <td>-0.345547</td>\n",
       "      <td>-1.414214</td>\n",
       "    </tr>\n",
       "    <tr>\n",
       "      <th>1</th>\n",
       "      <td>0.086387</td>\n",
       "      <td>-0.707107</td>\n",
       "    </tr>\n",
       "    <tr>\n",
       "      <th>2</th>\n",
       "      <td>0.518321</td>\n",
       "      <td>0.000000</td>\n",
       "    </tr>\n",
       "    <tr>\n",
       "      <th>3</th>\n",
       "      <td>1.382189</td>\n",
       "      <td>0.707107</td>\n",
       "    </tr>\n",
       "    <tr>\n",
       "      <th>4</th>\n",
       "      <td>-1.641350</td>\n",
       "      <td>1.414214</td>\n",
       "    </tr>\n",
       "  </tbody>\n",
       "</table>\n",
       "</div>"
      ],
      "text/plain": [
       "     income  loan_amount\n",
       "0 -0.345547    -1.414214\n",
       "1  0.086387    -0.707107\n",
       "2  0.518321     0.000000\n",
       "3  1.382189     0.707107\n",
       "4 -1.641350     1.414214"
      ]
     },
     "execution_count": 11,
     "metadata": {},
     "output_type": "execute_result"
    }
   ],
   "source": [
    "standardized_df"
   ]
  },
  {
   "cell_type": "code",
   "execution_count": null,
   "id": "bdd72e78-9c03-4cfb-a09f-c5e55be817e7",
   "metadata": {},
   "outputs": [],
   "source": []
  },
  {
   "cell_type": "markdown",
   "id": "59c5e0f9-60ed-4aa9-83a4-d5576b1eabb6",
   "metadata": {},
   "source": [
    "### 🔹 What is **Min-Max Scaling**?\n",
    "\n",
    "**Min-Max Scaling** (also called normalization) is a technique to rescale your features to a **fixed range**, usually **\\[0, 1]**.\n",
    "\n",
    "---\n",
    "\n",
    "### ✅ **Formula:**\n",
    "\n",
    "$$\n",
    "x' = \\frac{x - \\text{min}(x)}{\\text{max}(x) - \\text{min}(x)}\n",
    "$$\n",
    "\n",
    "Where:\n",
    "\n",
    "* $x$ = original value\n",
    "* $x'$ = scaled value\n",
    "* $\\text{min}(x)$, $\\text{max}(x)$ = min and max of the feature\n",
    "\n",
    "### ⚖️ **When to Use Min-Max Scaling:**\n",
    "\n",
    "* When you want values strictly between **0 and 1**\n",
    "* Works well for algorithms that use distance or gradient-based optimization:\n",
    "\n",
    "  * **KNN**\n",
    "  * **K-Means**\n",
    "  * **Neural Networks**\n",
    "\n",
    "### ❗ Caution:\n",
    "\n",
    "* **Sensitive to outliers** – extreme values can heavily affect the result.\n",
    "* Better to use **Standardization** (Z-score) if data contains outliers."
   ]
  },
  {
   "cell_type": "code",
   "execution_count": 14,
   "id": "c4d9c385-f2c3-4fcf-a565-f7c28ff36247",
   "metadata": {},
   "outputs": [],
   "source": [
    "from sklearn.preprocessing import MinMaxScaler\n",
    "import pandas as pd"
   ]
  },
  {
   "cell_type": "code",
   "execution_count": 15,
   "id": "e49db53c-ce6e-49bc-acbe-008f6f05515e",
   "metadata": {},
   "outputs": [],
   "source": [
    "\n",
    "# Sample data\n",
    "data = {\n",
    "    'income': [20000, 30000, 50000, 80000],\n",
    "    'loan_amount': [10000, 12000, 25000, 30000]\n",
    "}"
   ]
  },
  {
   "cell_type": "code",
   "execution_count": 16,
   "id": "d4a8672f-e858-4ef0-83d0-551c969646ee",
   "metadata": {},
   "outputs": [],
   "source": [
    "df = pd.DataFrame(data)"
   ]
  },
  {
   "cell_type": "code",
   "execution_count": 17,
   "id": "2a5d8d5d-aa9d-4438-83cd-02bd67941d8f",
   "metadata": {},
   "outputs": [],
   "source": [
    "# Create scaler object\n",
    "scaler = MinMaxScaler()"
   ]
  },
  {
   "cell_type": "code",
   "execution_count": 18,
   "id": "3685517f-8c5a-4119-b8ba-2b9f667e86dd",
   "metadata": {},
   "outputs": [],
   "source": [
    "# Fit and transform the data\n",
    "normalized_data = scaler.fit_transform(df)"
   ]
  },
  {
   "cell_type": "code",
   "execution_count": 19,
   "id": "3c6aff81-a863-4a0a-8987-39b5a7bb1bec",
   "metadata": {},
   "outputs": [],
   "source": [
    "# Create a DataFrame with normalized data\n",
    "normalized_df = pd.DataFrame(normalized_data, columns=df.columns)"
   ]
  },
  {
   "cell_type": "code",
   "execution_count": 21,
   "id": "3030c4ea-7d97-45ad-86c0-858dc25800f4",
   "metadata": {},
   "outputs": [
    {
     "data": {
      "text/html": [
       "<div>\n",
       "<style scoped>\n",
       "    .dataframe tbody tr th:only-of-type {\n",
       "        vertical-align: middle;\n",
       "    }\n",
       "\n",
       "    .dataframe tbody tr th {\n",
       "        vertical-align: top;\n",
       "    }\n",
       "\n",
       "    .dataframe thead th {\n",
       "        text-align: right;\n",
       "    }\n",
       "</style>\n",
       "<table border=\"1\" class=\"dataframe\">\n",
       "  <thead>\n",
       "    <tr style=\"text-align: right;\">\n",
       "      <th></th>\n",
       "      <th>income</th>\n",
       "      <th>loan_amount</th>\n",
       "    </tr>\n",
       "  </thead>\n",
       "  <tbody>\n",
       "    <tr>\n",
       "      <th>0</th>\n",
       "      <td>0.000000</td>\n",
       "      <td>0.00</td>\n",
       "    </tr>\n",
       "    <tr>\n",
       "      <th>1</th>\n",
       "      <td>0.166667</td>\n",
       "      <td>0.10</td>\n",
       "    </tr>\n",
       "    <tr>\n",
       "      <th>2</th>\n",
       "      <td>0.500000</td>\n",
       "      <td>0.75</td>\n",
       "    </tr>\n",
       "    <tr>\n",
       "      <th>3</th>\n",
       "      <td>1.000000</td>\n",
       "      <td>1.00</td>\n",
       "    </tr>\n",
       "  </tbody>\n",
       "</table>\n",
       "</div>"
      ],
      "text/plain": [
       "     income  loan_amount\n",
       "0  0.000000         0.00\n",
       "1  0.166667         0.10\n",
       "2  0.500000         0.75\n",
       "3  1.000000         1.00"
      ]
     },
     "execution_count": 21,
     "metadata": {},
     "output_type": "execute_result"
    }
   ],
   "source": [
    "normalized_df"
   ]
  },
  {
   "cell_type": "code",
   "execution_count": null,
   "id": "db1ba7e7-b833-48a5-b389-7a7314eb8bbd",
   "metadata": {},
   "outputs": [],
   "source": []
  },
  {
   "cell_type": "markdown",
   "id": "36dc3f36-7ca4-4675-8367-22b7fc82e51f",
   "metadata": {},
   "source": [
    "### 🔹 What is **MaxAbsScaler**?\n",
    "\n",
    "**MaxAbsScaler** scales each feature by **its maximum absolute value**, transforming the data into the range **\\[-1, 1]**. Unlike MinMaxScaler, it **doesn’t shift or center** the data — only scales.\n",
    "\n",
    "### ✅ **Formula:**\n",
    "\n",
    "$$\n",
    "x' = \\frac{x}{\\max(|x|)}\n",
    "$$\n",
    "\n",
    "Where:\n",
    "\n",
    "* $x$ = original value\n",
    "* $x'$ = scaled value\n",
    "* $\\max(|x|)$ = maximum absolute value of the feature\n",
    "\n",
    "### ⚖️ **When to Use MaxAbsScaler:**\n",
    "\n",
    "* Data contains **both positive and negative values**\n",
    "* You want to **preserve sparsity** (works well with sparse data)\n",
    "* Models sensitive to scale but not to centering (e.g., SVMs, linear models)\n",
    "\n",
    "### ❗ Not suitable when:\n",
    "\n",
    "* Data needs centering (mean = 0)\n",
    "* There are extreme outliers (use **RobustScaler** instead)\n"
   ]
  },
  {
   "cell_type": "code",
   "execution_count": 24,
   "id": "1f90afc7-03d6-4fc5-8f20-4a48fa5b98d7",
   "metadata": {},
   "outputs": [
    {
     "data": {
      "text/html": [
       "<div>\n",
       "<style scoped>\n",
       "    .dataframe tbody tr th:only-of-type {\n",
       "        vertical-align: middle;\n",
       "    }\n",
       "\n",
       "    .dataframe tbody tr th {\n",
       "        vertical-align: top;\n",
       "    }\n",
       "\n",
       "    .dataframe thead th {\n",
       "        text-align: right;\n",
       "    }\n",
       "</style>\n",
       "<table border=\"1\" class=\"dataframe\">\n",
       "  <thead>\n",
       "    <tr style=\"text-align: right;\">\n",
       "      <th></th>\n",
       "      <th>income</th>\n",
       "      <th>loan_amount</th>\n",
       "    </tr>\n",
       "  </thead>\n",
       "  <tbody>\n",
       "    <tr>\n",
       "      <th>0</th>\n",
       "      <td>0.250</td>\n",
       "      <td>0.333333</td>\n",
       "    </tr>\n",
       "    <tr>\n",
       "      <th>1</th>\n",
       "      <td>-0.375</td>\n",
       "      <td>-0.400000</td>\n",
       "    </tr>\n",
       "    <tr>\n",
       "      <th>2</th>\n",
       "      <td>0.625</td>\n",
       "      <td>0.833333</td>\n",
       "    </tr>\n",
       "    <tr>\n",
       "      <th>3</th>\n",
       "      <td>-1.000</td>\n",
       "      <td>-1.000000</td>\n",
       "    </tr>\n",
       "  </tbody>\n",
       "</table>\n",
       "</div>"
      ],
      "text/plain": [
       "   income  loan_amount\n",
       "0   0.250     0.333333\n",
       "1  -0.375    -0.400000\n",
       "2   0.625     0.833333\n",
       "3  -1.000    -1.000000"
      ]
     },
     "execution_count": 24,
     "metadata": {},
     "output_type": "execute_result"
    }
   ],
   "source": [
    "from sklearn.preprocessing import MaxAbsScaler\n",
    "import pandas as pd\n",
    "\n",
    "# Sample data (can include negative values)\n",
    "data = {\n",
    "    'income': [20000, -30000, 50000, -80000],\n",
    "    'loan_amount': [10000, -12000, 25000, -30000]\n",
    "}\n",
    "\n",
    "df = pd.DataFrame(data)\n",
    "\n",
    "# Create scaler\n",
    "scaler = MaxAbsScaler()\n",
    "\n",
    "# Fit and transform the data\n",
    "scaled_data = scaler.fit_transform(df)\n",
    "\n",
    "# Create DataFrame with scaled values\n",
    "scaled_df = pd.DataFrame(scaled_data, columns=df.columns)\n",
    "\n",
    "scaled_df"
   ]
  },
  {
   "cell_type": "code",
   "execution_count": null,
   "id": "c43fc374-0e1c-416c-89c5-746eb24bbfed",
   "metadata": {},
   "outputs": [],
   "source": []
  },
  {
   "cell_type": "markdown",
   "id": "a147154c-31f3-4a40-bef9-8ac82d167b1e",
   "metadata": {},
   "source": [
    "### 🔹 What is **RobustScaler**?\n",
    "\n",
    "**RobustScaler** is a scaling technique that **reduces the influence of outliers** by using the **median** and **interquartile range (IQR)** instead of mean and standard deviation.\n",
    "\n",
    "### ✅ **Formula:**\n",
    "\n",
    "$$\n",
    "x' = \\frac{x - \\text{median}(x)}{\\text{IQR}(x)}\n",
    "$$\n",
    "\n",
    "Where:\n",
    "\n",
    "* $x$ = original value\n",
    "* $\\text{median}(x)$ = 50th percentile\n",
    "* $\\text{IQR}(x) = Q3 - Q1$ = 75th percentile − 25th percentile\n",
    "\n",
    "### ⚖️ **When to Use RobustScaler:**\n",
    "\n",
    "* Your data contains **outliers**\n",
    "* You want a scale that is **resistant to extreme values**\n",
    "* Works well with algorithms sensitive to scale (e.g., linear models, SVM, KNN)\n",
    "\n",
    "### 🧠 Comparison:\n",
    "\n",
    "| Scaler         | Handles Outliers? | Range          | Centers Data   |\n",
    "| -------------- | ----------------- | -------------- | -------------- |\n",
    "| StandardScaler | ❌ No              | Varies         | Yes (mean=0)   |\n",
    "| MinMaxScaler   | ❌ No              | \\[0, 1]        | No             |\n",
    "| MaxAbsScaler   | ❌ No              | \\[-1, 1]       | No             |\n",
    "| RobustScaler   | ✅ Yes             | Depends on IQR | Yes (median=0) |\n"
   ]
  },
  {
   "cell_type": "code",
   "execution_count": 26,
   "id": "feb9015e-156b-4e2a-88b6-aed25806098c",
   "metadata": {},
   "outputs": [
    {
     "data": {
      "text/html": [
       "<div>\n",
       "<style scoped>\n",
       "    .dataframe tbody tr th:only-of-type {\n",
       "        vertical-align: middle;\n",
       "    }\n",
       "\n",
       "    .dataframe tbody tr th {\n",
       "        vertical-align: top;\n",
       "    }\n",
       "\n",
       "    .dataframe thead th {\n",
       "        text-align: right;\n",
       "    }\n",
       "</style>\n",
       "<table border=\"1\" class=\"dataframe\">\n",
       "  <thead>\n",
       "    <tr style=\"text-align: right;\">\n",
       "      <th></th>\n",
       "      <th>income</th>\n",
       "      <th>loan_amount</th>\n",
       "    </tr>\n",
       "  </thead>\n",
       "  <tbody>\n",
       "    <tr>\n",
       "      <th>0</th>\n",
       "      <td>-0.095238</td>\n",
       "      <td>-0.263566</td>\n",
       "    </tr>\n",
       "    <tr>\n",
       "      <th>1</th>\n",
       "      <td>-0.047619</td>\n",
       "      <td>-0.201550</td>\n",
       "    </tr>\n",
       "    <tr>\n",
       "      <th>2</th>\n",
       "      <td>0.047619</td>\n",
       "      <td>0.201550</td>\n",
       "    </tr>\n",
       "    <tr>\n",
       "      <th>3</th>\n",
       "      <td>3.619048</td>\n",
       "      <td>2.527132</td>\n",
       "    </tr>\n",
       "  </tbody>\n",
       "</table>\n",
       "</div>"
      ],
      "text/plain": [
       "     income  loan_amount\n",
       "0 -0.095238    -0.263566\n",
       "1 -0.047619    -0.201550\n",
       "2  0.047619     0.201550\n",
       "3  3.619048     2.527132"
      ]
     },
     "execution_count": 26,
     "metadata": {},
     "output_type": "execute_result"
    }
   ],
   "source": [
    "from sklearn.preprocessing import RobustScaler\n",
    "import pandas as pd\n",
    "\n",
    "# Sample data with outliers\n",
    "data = {\n",
    "    'income': [20000, 30000, 50000, 800000],  # Outlier: 800000\n",
    "    'loan_amount': [10000, 12000, 25000, 100000]  # Outlier: 100000\n",
    "}\n",
    "\n",
    "df = pd.DataFrame(data)\n",
    "\n",
    "# Create RobustScaler\n",
    "scaler = RobustScaler()\n",
    "\n",
    "# Fit and transform the data\n",
    "scaled_data = scaler.fit_transform(df)\n",
    "\n",
    "# Create DataFrame with scaled values\n",
    "scaled_dfr = pd.DataFrame(scaled_data, columns=df.columns)\n",
    "\n",
    "scaled_dfr"
   ]
  },
  {
   "cell_type": "code",
   "execution_count": null,
   "id": "857e5998-b015-4461-9424-cae6dfe36e26",
   "metadata": {},
   "outputs": [],
   "source": []
  }
 ],
 "metadata": {
  "kernelspec": {
   "display_name": "Python 3 (ipykernel)",
   "language": "python",
   "name": "python3"
  },
  "language_info": {
   "codemirror_mode": {
    "name": "ipython",
    "version": 3
   },
   "file_extension": ".py",
   "mimetype": "text/x-python",
   "name": "python",
   "nbconvert_exporter": "python",
   "pygments_lexer": "ipython3",
   "version": "3.13.5"
  },
  "widgets": {
   "application/vnd.jupyter.widget-state+json": {
    "state": {},
    "version_major": 2,
    "version_minor": 0
   }
  }
 },
 "nbformat": 4,
 "nbformat_minor": 5
}
