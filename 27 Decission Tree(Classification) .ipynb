{
 "cells": [
  {
   "cell_type": "markdown",
   "id": "21ccf741-577b-4dbe-b61b-27d28e510293",
   "metadata": {},
   "source": [
    "# Machine Learning 27: Decission Tree Classification"
   ]
  },
  {
   "cell_type": "markdown",
   "id": "a49c52ce-e19c-42d3-b8e3-a93d454bb2f8",
   "metadata": {},
   "source": [
    "## **What Decision Tree Classification?**\n",
    "\n",
    "A **Decision Tree** is a supervised machine learning algorithm used for **classification** (and regression). It works by learning decision rules from data features to predict the class label of instances.\n",
    "\n",
    "#### 1. **Structure of a Decision Tree:**\n",
    "\n",
    "* **Root Node:** The first decision point based on the most important feature.\n",
    "* **Internal Nodes:** Nodes that split based on features.\n",
    "* **Leaf Nodes (Terminal):** Final decision or class label.\n",
    "\n",
    "```\n",
    "Example:\n",
    "                [Weather?]\n",
    "               /         \\\n",
    "           Sunny         Rainy\n",
    "           /                \\\n",
    "       [Humidity?]         Play=No\n",
    "        /     \\\n",
    "    High      Normal\n",
    "   /             \\\n",
    "Play=No        Play=Yes\n",
    "```\n",
    "\n",
    "### 2. How it Works:\n",
    "\n",
    "The tree splits the dataset based on **feature values**. At each node, it chooses the **best feature** to split the data to make the **classes as pure as possible** (i.e., mostly one class in each subset).\n",
    "### 📊 Splitting Criteria (How the best feature is selected):\n",
    "\n",
    "1. **Gini Impurity:**\n",
    "\n",
    "   $$\n",
    "   Gini = 1 - \\sum_{i=1}^{n} p_i^2\n",
    "   $$\n",
    "\n",
    "   Measures how often a randomly chosen element would be incorrectly labeled.\n",
    "\n",
    "2. **Entropy & Information Gain:**\n",
    "\n",
    "   $$\n",
    "   Entropy = - \\sum p_i \\log_2(p_i)\n",
    "   $$\n",
    "\n",
    "   $$\n",
    "   Information\\ Gain = Entropy(parent) - \\sum \\frac{N_{child}}{N_{total}} \\times Entropy(child)\n",
    "   $$\n",
    "\n",
    "3. **Gain Ratio (used in C4.5):**\n",
    "   Adjusts Information Gain to reduce bias toward features with many values.\n",
    "\n",
    "### 3. Recursive Partitioning\n",
    "\n",
    "The tree is built **recursively**:\n",
    "\n",
    "* Start at root\n",
    "* Pick the best feature to split using one of the criteria\n",
    "* Repeat on the resulting subsets\n",
    "* Stop when:\n",
    "\n",
    "  * All data in a node are of the same class\n",
    "  * Maximum depth is reached\n",
    "  * Minimum samples per leaf is reached\n",
    "\n",
    "### 4. Pruning (Prevent Overfitting)\n",
    "\n",
    "Pruning reduces tree size by removing branches that have little power:\n",
    "\n",
    "* **Pre-pruning:** Stop tree growth early\n",
    "* **Post-pruning:** Remove branches after the full tree is built\n",
    "\n",
    "### 5. Advantages\n",
    "\n",
    "* Easy to understand and interpret\n",
    "* No need for feature scaling\n",
    "* Works well with both categorical and numerical data\n",
    "\n",
    "### 6. Disadvantages\n",
    "\n",
    "* Can **overfit** on noisy data\n",
    "* Unstable (small changes in data can lead to a completely different tree)\n",
    "* Biased with imbalanced classes\n",
    "\n",
    "### 7. Common Algorithms\n",
    "\n",
    "* **ID3**: Uses Information Gain\n",
    "* **C4.5**: Uses Gain Ratio, handles missing data, supports pruning\n",
    "* **CART** (Classification And Regression Trees): Uses Gini for classification, supports binary splits\n"
   ]
  },
  {
   "cell_type": "code",
   "execution_count": 1,
   "id": "be044c30-1866-4ddf-808f-065f67bb669e",
   "metadata": {},
   "outputs": [
    {
     "ename": "ModuleNotFoundError",
     "evalue": "No module named 'mlxtend'",
     "output_type": "error",
     "traceback": [
      "\u001b[31m---------------------------------------------------------------------------\u001b[39m",
      "\u001b[31mModuleNotFoundError\u001b[39m                       Traceback (most recent call last)",
      "\u001b[36mCell\u001b[39m\u001b[36m \u001b[39m\u001b[32mIn[1]\u001b[39m\u001b[32m, line 5\u001b[39m\n\u001b[32m      3\u001b[39m \u001b[38;5;28;01mimport\u001b[39;00m\u001b[38;5;250m \u001b[39m\u001b[34;01mmatplotlib\u001b[39;00m\u001b[34;01m.\u001b[39;00m\u001b[34;01mpyplot\u001b[39;00m\u001b[38;5;250m \u001b[39m\u001b[38;5;28;01mas\u001b[39;00m\u001b[38;5;250m \u001b[39m\u001b[34;01mplt\u001b[39;00m\n\u001b[32m      4\u001b[39m \u001b[38;5;28;01mimport\u001b[39;00m\u001b[38;5;250m \u001b[39m\u001b[34;01mseaborn\u001b[39;00m\u001b[38;5;250m \u001b[39m\u001b[38;5;28;01mas\u001b[39;00m\u001b[38;5;250m \u001b[39m\u001b[34;01msns\u001b[39;00m\n\u001b[32m----> \u001b[39m\u001b[32m5\u001b[39m \u001b[38;5;28;01mfrom\u001b[39;00m\u001b[38;5;250m \u001b[39m\u001b[34;01mmlxtend\u001b[39;00m\u001b[34;01m.\u001b[39;00m\u001b[34;01mplotting\u001b[39;00m\u001b[38;5;250m \u001b[39m\u001b[38;5;28;01mimport\u001b[39;00m plot_decision_regions\n",
      "\u001b[31mModuleNotFoundError\u001b[39m: No module named 'mlxtend'"
     ]
    }
   ],
   "source": [
    "import pandas as pd\n",
    "import numpy as np\n",
    "import matplotlib.pyplot as plt\n",
    "import seaborn as sns\n",
    "from mlxtend.plotting import plot_decision_regions"
   ]
  },
  {
   "cell_type": "code",
   "execution_count": null,
   "id": "28a2ab93-488e-4117-83d1-9cfeb2081933",
   "metadata": {},
   "outputs": [],
   "source": [
    "dataset =pd.read_csv(\"Social_Network_Ads.csv\")"
   ]
  },
  {
   "cell_type": "code",
   "execution_count": null,
   "id": "b64554ad-c9d5-4dd7-a91b-c70e9aaa517f",
   "metadata": {},
   "outputs": [],
   "source": [
    "dataset.drop([\"User ID\", \"Gender\"], axis=1, inplace=True)"
   ]
  },
  {
   "cell_type": "code",
   "execution_count": null,
   "id": "d6d65c9b-11d5-497c-be96-04c54516c546",
   "metadata": {},
   "outputs": [],
   "source": [
    "dataset.head()"
   ]
  },
  {
   "cell_type": "code",
   "execution_count": null,
   "id": "138c282d-1c3f-4730-acd9-5e2532477a20",
   "metadata": {},
   "outputs": [],
   "source": [
    "dataset.shape"
   ]
  },
  {
   "cell_type": "code",
   "execution_count": null,
   "id": "cb31be99-1614-4147-ada5-9a84e1fee421",
   "metadata": {},
   "outputs": [],
   "source": [
    "dataset.isnull().sum()"
   ]
  },
  {
   "cell_type": "code",
   "execution_count": null,
   "id": "ef554a2b-6b83-4ac1-8baf-a12a8bd1c6a0",
   "metadata": {},
   "outputs": [],
   "source": [
    "sns.scatterplot(x=\"Age\", y=\"EstimatedSalary\", data=dataset, hue=\"Purchased\")\n",
    "plt.show()"
   ]
  },
  {
   "cell_type": "markdown",
   "id": "53a524ff-a9e7-4901-ad8a-e97da06223eb",
   "metadata": {},
   "source": [
    "### Splitting features and target"
   ]
  },
  {
   "cell_type": "code",
   "execution_count": null,
   "id": "fc7eb9ff-f2d9-47e0-aad9-9990766788fa",
   "metadata": {},
   "outputs": [],
   "source": [
    "X = dataset.iloc[:,:-1]\n",
    "y = dataset['Purchased']"
   ]
  },
  {
   "cell_type": "code",
   "execution_count": null,
   "id": "7430cf2e-3c4e-4350-b941-18c14e548b6f",
   "metadata": {},
   "outputs": [],
   "source": [
    "from sklearn.preprocessing import StandardScaler"
   ]
  },
  {
   "cell_type": "code",
   "execution_count": null,
   "id": "118111c8-1cab-4966-a74d-5c043534eb5f",
   "metadata": {},
   "outputs": [],
   "source": [
    "sc = StandardScaler()\n",
    "sc.fit(X)\n",
    "S = pd.DataFrame(sc.transform(X)).colums=X.columns"
   ]
  },
  {
   "cell_type": "code",
   "execution_count": null,
   "id": "6715ffa5-d2d9-4c6d-a990-4b0c13455724",
   "metadata": {},
   "outputs": [],
   "source": [
    "from sklearn.model_selection import train_test_split"
   ]
  },
  {
   "cell_type": "code",
   "execution_count": null,
   "id": "1843587a-44b5-48c1-8898-6f34aa72a034",
   "metadata": {},
   "outputs": [],
   "source": [
    "X_train, X_test, y_train, y_test = train_test_split(X, y, test_size=0.2, random_state=42)"
   ]
  },
  {
   "cell_type": "markdown",
   "id": "cb8ea133-febd-4168-b8b2-987708a81b53",
   "metadata": {},
   "source": [
    "### Decision Tree"
   ]
  },
  {
   "cell_type": "code",
   "execution_count": null,
   "id": "13ddf7f1-3f66-43b0-bf47-6baaff17c0fe",
   "metadata": {},
   "outputs": [],
   "source": [
    "from sklearn.tree import DecisionTreeClassifier"
   ]
  },
  {
   "cell_type": "code",
   "execution_count": null,
   "id": "4dd950bc-15e6-44fc-90f9-a87a4262a4a0",
   "metadata": {},
   "outputs": [],
   "source": [
    "# Create the classifier\n",
    "model = DecisionTreeClassifier(max_depth=2)\n",
    "\n",
    "# Train the model\n",
    "model.fit(X_train, y_train)"
   ]
  },
  {
   "cell_type": "markdown",
   "id": "d76e7d1c-289a-4221-8355-a40d0c291ff4",
   "metadata": {},
   "source": [
    "### Make predictions on the test set"
   ]
  },
  {
   "cell_type": "code",
   "execution_count": null,
   "id": "c68f2180-f313-4216-a405-60e334b7c0e9",
   "metadata": {},
   "outputs": [],
   "source": [
    "y_pred = model.predict(X_test)\n",
    "y_pred"
   ]
  },
  {
   "cell_type": "markdown",
   "id": "54534abc-ff18-469c-9ba0-16ec99702e6b",
   "metadata": {},
   "source": [
    "### Evalute the model's performance"
   ]
  },
  {
   "cell_type": "code",
   "execution_count": null,
   "id": "59c9e1a4-42a3-4d5b-a351-9f337e193b9e",
   "metadata": {},
   "outputs": [],
   "source": [
    "from sklearn.metrics import classification_report, confusion_matrix, accuracy_score"
   ]
  },
  {
   "cell_type": "code",
   "execution_count": null,
   "id": "fe60d4aa-179a-4a5d-bf39-f14c003a4d57",
   "metadata": {},
   "outputs": [],
   "source": [
    "print(confusion_matrix(y_test, y_pred))"
   ]
  },
  {
   "cell_type": "code",
   "execution_count": null,
   "id": "bc52a815-6968-43fd-aa74-b0e86e558be5",
   "metadata": {},
   "outputs": [],
   "source": [
    "print(\"Accuracy:\", accuracy_score(y_test, y_pred))\n",
    "print(\"Confusion Matrix:\\n\", confusion_matrix(y_test, y_pred))\n",
    "print(\"Classification Report:\\n\", classification_report(y_test, y_pred))"
   ]
  },
  {
   "cell_type": "code",
   "execution_count": null,
   "id": "86b4c5fa-a772-465e-87b4-52ee5645d826",
   "metadata": {},
   "outputs": [],
   "source": [
    "plot_decision_regions(X.to_numpy(), y.to_numpy(), clf=model)\n",
    "plt.show"
   ]
  },
  {
   "cell_type": "code",
   "execution_count": null,
   "id": "99a5aeba-e0d0-488b-acaf-2080e3d5ac04",
   "metadata": {},
   "outputs": [],
   "source": [
    "from sklearn.tree import plot_tree"
   ]
  },
  {
   "cell_type": "code",
   "execution_count": null,
   "id": "cac81248-05e9-4dcb-b614-4c613070a3ce",
   "metadata": {},
   "outputs": [],
   "source": [
    "plt.figure(figsize=(12, 8))\n",
    "plot_tree(\n",
    "    model,\n",
    "    filled=True,\n",
    "    rounded=True\n",
    ")\n",
    "plt.title(\"Decision Tree Visualization\", fontsize=16)\n",
    "plt.show()\n"
   ]
  },
  {
   "cell_type": "code",
   "execution_count": null,
   "id": "f6ab82fc-b73f-4000-a380-29ffab36d360",
   "metadata": {},
   "outputs": [],
   "source": []
  },
  {
   "cell_type": "code",
   "execution_count": null,
   "id": "e5f13ac3-3c11-4bcd-ba8f-f8011a36f5d7",
   "metadata": {},
   "outputs": [],
   "source": [
    "for i in range (1,20):\n",
    "    dt2 = DecisionTreeClassifier(max_depth=i)\n",
    "    dt2.fit(X_train,y_train)\n",
    "    print(dt2.score(X_train,y_train),dt2.score(X_test,y_test),i)"
   ]
  },
  {
   "cell_type": "code",
   "execution_count": null,
   "id": "5ddc24d7-82e9-4dd5-b32c-27e8bd730138",
   "metadata": {},
   "outputs": [],
   "source": []
  },
  {
   "cell_type": "markdown",
   "id": "dde39032-de87-41e1-9028-3743ed030121",
   "metadata": {},
   "source": [
    "### Decision Tree Split Criteria\n",
    "\n",
    "When building a decision tree, the algorithm needs a way to decide **which attribute (feature) to split on** at each node. This is where **Entropy**, **Gini Impurity**, and **Information Gain** come in.\n",
    "\n",
    "### 1. **Entropy (H)** – Measures Uncertainty\n",
    "\n",
    "Entropy is a concept from **information theory**. It measures the amount of **disorder or impurity** in a dataset.\n",
    "\n",
    "###  Formula:\n",
    "\n",
    "For a binary classification:\n",
    "\n",
    "$$\n",
    "Entropy(S) = -p_+\\log_2(p_+) - p_-\\log_2(p_-)\n",
    "$$\n",
    "\n",
    "Where:\n",
    "\n",
    "* $p_+$ = proportion of positive examples in set $S$\n",
    "* $p_-$ = proportion of negative examples in set $S$\n",
    "\n",
    "### Properties:\n",
    "\n",
    "* Entropy = 0 → perfect purity (all one class)\n",
    "* Entropy = 1 → maximum impurity (classes evenly split)\n",
    "\n",
    "### Example:\n",
    "\n",
    "\n",
    "If a dataset has 50% positive and 50% negative samples:\n",
    "\n",
    "$$\n",
    "Entropy = -0.5 \\log_2(0.5) - 0.5 \\log_2(0.5) = 1\n",
    "$$\n",
    "\n",
    "### 2. **Information Gain (IG)** – Measures Reduction in Uncertainty\n",
    "\n",
    "Information Gain tells us **how much entropy is reduced** by splitting the dataset on an attribute.\n",
    "\n",
    "### Formula:\n",
    "\n",
    "$$\n",
    "IG(S, A) = Entropy(S) - \\sum_{v \\in Values(A)} \\frac{|S_v|}{|S|} \\cdot Entropy(S_v)\n",
    "$$\n",
    "\n",
    "Where:\n",
    "\n",
    "* $S$ is the original dataset\n",
    "* $A$ is the attribute we're splitting on\n",
    "* $S_v$ is the subset of $S$ where attribute $A = v$\n",
    "\n",
    "We **choose the attribute with the highest Information Gain** for the split.\n",
    "\n",
    "## 3. **Gini Impurity (G)** – Another Measure of Impurity\n",
    "\n",
    "Gini Impurity measures how often a randomly chosen element from the set would be incorrectly labeled.\n",
    "\n",
    "### Formula:\n",
    "\n",
    "For binary classification:\n",
    "\n",
    "$$\n",
    "Gini(S) = 1 - p_+^2 - p_-^2\n",
    "$$\n",
    "\n",
    "### Properties:\n",
    "\n",
    "* Gini = 0 → perfect purity\n",
    "* Gini = 0.5 → max impurity in binary classification\n",
    "\n",
    "### Comparison with Entropy:\n",
    "\n",
    "* Gini is often faster to compute than entropy.\n",
    "* Both give similar results, but **Gini is more sensitive to class imbalance**.\n",
    "* **CART (Classification and Regression Trees)** uses Gini by default.\n",
    "\n",
    "### Summary Table\n",
    "\n",
    "| Measure          | Purpose               | Range     | Best Split Criterion     |\n",
    "| ---------------- | --------------------- | --------- | ------------------------ |\n",
    "| Entropy          | Measures impurity     | \\[0, 1]   | Highest Information Gain |\n",
    "| Gini Impurity    | Measures impurity     | \\[0, 0.5] | Lowest Gini              |\n",
    "| Information Gain | Measures entropy drop | \\[0, 1]   | Highest IG               |\n",
    "\n",
    "### ✅ Final Notes:\n",
    "\n",
    "* Use **Entropy + Information Gain** if you want more theoretical interpretability.\n",
    "* Use **Gini Impurity** for faster computation (most practical cases).\n",
    "* In **scikit-learn**, use:\n",
    "\n",
    "  * `criterion='entropy'` → Entropy + IG\n",
    "  * `criterion='gini'` → Gini Impurity (default)\n"
   ]
  },
  {
   "cell_type": "code",
   "execution_count": null,
   "id": "2e0fe760-8180-4290-8435-ac2e0744a3fa",
   "metadata": {},
   "outputs": [],
   "source": []
  }
 ],
 "metadata": {
  "kernelspec": {
   "display_name": "Python 3 (ipykernel)",
   "language": "python",
   "name": "python3"
  },
  "language_info": {
   "codemirror_mode": {
    "name": "ipython",
    "version": 3
   },
   "file_extension": ".py",
   "mimetype": "text/x-python",
   "name": "python",
   "nbconvert_exporter": "python",
   "pygments_lexer": "ipython3",
   "version": "3.13.7"
  },
  "widgets": {
   "application/vnd.jupyter.widget-state+json": {
    "state": {},
    "version_major": 2,
    "version_minor": 0
   }
  }
 },
 "nbformat": 4,
 "nbformat_minor": 5
}
