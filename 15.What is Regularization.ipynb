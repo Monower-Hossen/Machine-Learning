{
 "cells": [
  {
   "cell_type": "markdown",
   "id": "4394f4c2-2d78-4747-b545-092b2afaeeb1",
   "metadata": {},
   "source": [
    "# Machine Learning 15: What is Regularization?"
   ]
  },
  {
   "cell_type": "markdown",
   "id": "bbd2e604-d4ba-4a95-9a0f-1d8dd2179674",
   "metadata": {},
   "source": [
    "## 🔍 What is Regularization?\n",
    "\n",
    "In machine learning, **regularization** is a technique used to prevent **overfitting** by adding a penalty term to the loss function. Overfitting occurs when a model learns the noise in the training data, resulting in poor generalization to unseen data.\n",
    "\n",
    "\n",
    "## 📘 L1 Regularization (Lasso)\n",
    "\n",
    "### 🧮 Mathematical Form:\n",
    "\n",
    "In linear regression, the L1-regularized cost function is:\n",
    "\n",
    "$$\n",
    "\\text{Loss}_{L1} = \\text{MSE} + \\lambda \\sum_{j=1}^{n} |\\theta_j|\n",
    "$$\n",
    "\n",
    "* **MSE** is the Mean Squared Error.\n",
    "* $\\theta_j$ are the model weights.\n",
    "* $\\lambda$ is the regularization parameter controlling the penalty strength.\n",
    "\n",
    "### 🧠 Intuition:\n",
    "\n",
    "* The **absolute value** penalty tends to shrink some coefficients **exactly to zero**.\n",
    "* This means L1 **performs feature selection**, effectively removing irrelevant features from the model.\n",
    "\n",
    "### ✅ Use When:\n",
    "\n",
    "* You suspect that **many features are irrelevant** or you want a **sparse model**.\n",
    "* You're looking for **interpretability**, i.e., knowing which features matter.\n",
    "\n",
    "---\n",
    "\n",
    "## 📗 L2 Regularization (Ridge)\n",
    "\n",
    "### 🧮 Mathematical Form:\n",
    "\n",
    "In linear regression, the L2-regularized cost function is:\n",
    "\n",
    "$$\n",
    "\\text{Loss}_{L2} = \\text{MSE} + \\lambda \\sum_{j=1}^{n} \\theta_j^2\n",
    "$$\n",
    "\n",
    "### 🧠 Intuition:\n",
    "\n",
    "* The **squared** penalty discourages large weights but does **not eliminate them**.\n",
    "* All features remain in the model but with **smaller, more evenly distributed weights**.\n",
    "\n",
    "### ✅ Use When:\n",
    "\n",
    "* All features may be useful, and you want to **keep them all** but reduce overfitting.\n",
    "* You care about **stability and small variance** in the model predictions.\n",
    "\n",
    "---\n",
    "\n",
    "## 🧠 Geometric Intuition\n",
    "\n",
    "* **L1** penalty creates a diamond-shaped constraint region. The corners encourage solutions where some coefficients are exactly zero.\n",
    "* **L2** penalty creates a circular constraint region, encouraging all weights to be small but non-zero.\n",
    "\n",
    "---\n",
    "\n",
    "## 📌 Elastic Net: Best of Both Worlds\n",
    "\n",
    "$$\n",
    "\\text{Loss} = \\text{MSE} + \\lambda_1 \\sum |\\theta_j| + \\lambda_2 \\sum \\theta_j^2\n",
    "$$\n",
    "\n",
    "* Combines L1 and L2 penalties.\n",
    "* Ideal when you have many features and expect correlations between them.\n",
    "\n",
    "---\n",
    "\n",
    "## 🧪 Summary\n",
    "\n",
    "* **L1 Regularization (Lasso)**: Feature selection, sparse models, best when some features are unimportant.\n",
    "* **L2 Regularization (Ridge)**: Shrinks all weights, better with multicollinearity or when all features matter.\n",
    "* **Elastic Net**: Blends both when you're unsure or have many correlated variables.\n"
   ]
  },
  {
   "cell_type": "code",
   "execution_count": 1,
   "id": "7f94124c-2742-4f2f-a1ff-540fb711f2c4",
   "metadata": {},
   "outputs": [],
   "source": [
    "# 1. Importing Required Libraries\n",
    "import pandas as pd\n",
    "import numpy as np\n",
    "from sklearn.model_selection import train_test_split\n",
    "from sklearn.linear_model import Ridge, Lasso\n",
    "from sklearn.metrics import mean_squared_error, r2_score"
   ]
  },
  {
   "cell_type": "markdown",
   "id": "245bc63e-7b68-4e12-9412-200e673a0fb2",
   "metadata": {},
   "source": [
    "✅ Explanation:\n",
    "\n",
    "- pandas: for loading and handling tabular data.\n",
    "- numpy: for numerical operations.\n",
    "- train_test_split: to split data into training and testing sets.\n",
    "- Ridge, Lasso: for L2 and L1 regularized models.\n",
    "- mean_squared_error, r2_score: for evaluating model performance."
   ]
  },
  {
   "cell_type": "code",
   "execution_count": 2,
   "id": "e109ff7c-c21b-4373-b6f5-171836362dde",
   "metadata": {},
   "outputs": [
    {
     "data": {
      "text/html": [
       "<div>\n",
       "<style scoped>\n",
       "    .dataframe tbody tr th:only-of-type {\n",
       "        vertical-align: middle;\n",
       "    }\n",
       "\n",
       "    .dataframe tbody tr th {\n",
       "        vertical-align: top;\n",
       "    }\n",
       "\n",
       "    .dataframe thead th {\n",
       "        text-align: right;\n",
       "    }\n",
       "</style>\n",
       "<table border=\"1\" class=\"dataframe\">\n",
       "  <thead>\n",
       "    <tr style=\"text-align: right;\">\n",
       "      <th></th>\n",
       "      <th>price</th>\n",
       "      <th>area</th>\n",
       "      <th>bedrooms</th>\n",
       "      <th>bathrooms</th>\n",
       "      <th>stories</th>\n",
       "      <th>mainroad</th>\n",
       "      <th>guestroom</th>\n",
       "      <th>basement</th>\n",
       "      <th>hotwaterheating</th>\n",
       "      <th>airconditioning</th>\n",
       "      <th>parking</th>\n",
       "      <th>prefarea</th>\n",
       "      <th>furnishingstatus</th>\n",
       "    </tr>\n",
       "  </thead>\n",
       "  <tbody>\n",
       "    <tr>\n",
       "      <th>0</th>\n",
       "      <td>13300000</td>\n",
       "      <td>7420</td>\n",
       "      <td>4</td>\n",
       "      <td>2</td>\n",
       "      <td>3</td>\n",
       "      <td>yes</td>\n",
       "      <td>no</td>\n",
       "      <td>no</td>\n",
       "      <td>no</td>\n",
       "      <td>yes</td>\n",
       "      <td>2</td>\n",
       "      <td>yes</td>\n",
       "      <td>furnished</td>\n",
       "    </tr>\n",
       "    <tr>\n",
       "      <th>1</th>\n",
       "      <td>12250000</td>\n",
       "      <td>8960</td>\n",
       "      <td>4</td>\n",
       "      <td>4</td>\n",
       "      <td>4</td>\n",
       "      <td>yes</td>\n",
       "      <td>no</td>\n",
       "      <td>no</td>\n",
       "      <td>no</td>\n",
       "      <td>yes</td>\n",
       "      <td>3</td>\n",
       "      <td>no</td>\n",
       "      <td>furnished</td>\n",
       "    </tr>\n",
       "    <tr>\n",
       "      <th>2</th>\n",
       "      <td>12250000</td>\n",
       "      <td>9960</td>\n",
       "      <td>3</td>\n",
       "      <td>2</td>\n",
       "      <td>2</td>\n",
       "      <td>yes</td>\n",
       "      <td>no</td>\n",
       "      <td>yes</td>\n",
       "      <td>no</td>\n",
       "      <td>no</td>\n",
       "      <td>2</td>\n",
       "      <td>yes</td>\n",
       "      <td>semi-furnished</td>\n",
       "    </tr>\n",
       "  </tbody>\n",
       "</table>\n",
       "</div>"
      ],
      "text/plain": [
       "      price  area  bedrooms  bathrooms  stories mainroad guestroom basement  \\\n",
       "0  13300000  7420         4          2        3      yes        no       no   \n",
       "1  12250000  8960         4          4        4      yes        no       no   \n",
       "2  12250000  9960         3          2        2      yes        no      yes   \n",
       "\n",
       "  hotwaterheating airconditioning  parking prefarea furnishingstatus  \n",
       "0              no             yes        2      yes        furnished  \n",
       "1              no             yes        3       no        furnished  \n",
       "2              no              no        2      yes   semi-furnished  "
      ]
     },
     "execution_count": 2,
     "metadata": {},
     "output_type": "execute_result"
    }
   ],
   "source": [
    "df =pd.read_csv(\"Housing.csv\")\n",
    "df.head(3)"
   ]
  },
  {
   "cell_type": "code",
   "execution_count": 3,
   "id": "8dd1b6a9-b9b5-4df5-acab-712af9f35785",
   "metadata": {},
   "outputs": [],
   "source": [
    "# 3. Preprocessing: Convert categorical to numeric if needed\n",
    "df = pd.get_dummies(df, drop_first=True)"
   ]
  },
  {
   "cell_type": "markdown",
   "id": "47cdb6e0-47cf-4814-b1aa-5f5f9b7b799c",
   "metadata": {},
   "source": [
    "✅ Explanation:\n",
    "\n",
    "- Converts categorical variables (e.g., location) into numerical using One-Hot Encoding.\n",
    "- drop_first=True avoids dummy variable trap.\n",
    "\n"
   ]
  },
  {
   "cell_type": "code",
   "execution_count": 4,
   "id": "e6ab22cc-b210-43be-88c0-241dbc256db6",
   "metadata": {},
   "outputs": [],
   "source": [
    "# 4. Feature and Target Separation\n",
    "X = df.drop('price', axis=1)  # Independent variables\n",
    "y = df['price']               # Dependent variable"
   ]
  },
  {
   "cell_type": "markdown",
   "id": "33f6dce5-516b-4ef7-8331-6666e7816687",
   "metadata": {},
   "source": [
    "✅ Explanation:\n",
    "\n",
    "- X is the matrix of features (area, rooms, etc.).\n",
    "- y is the target variable (price).\n",
    "\n"
   ]
  },
  {
   "cell_type": "code",
   "execution_count": 5,
   "id": "bcecd14b-ac72-4609-ac48-651c992c4d84",
   "metadata": {},
   "outputs": [],
   "source": [
    "# 5. Train-Test Split\n",
    "X_train, X_test, y_train, y_test = train_test_split(X, y, test_size=0.2, random_state=42)"
   ]
  },
  {
   "cell_type": "markdown",
   "id": "1e281b9b-f57c-48fe-9299-64f3ac82b86e",
   "metadata": {},
   "source": [
    "✅ Explanation:\n",
    "- 80% training, 20% testing.\n",
    "- random_state=42 ensures reproducibility."
   ]
  },
  {
   "cell_type": "code",
   "execution_count": 6,
   "id": "84e9b795-cb81-41de-ae72-81ab31319ac1",
   "metadata": {},
   "outputs": [],
   "source": [
    "# 6. Ridge (L2 Regularization)\n",
    "ridge = Ridge(alpha=1.0)\n",
    "ridge.fit(X_train, y_train)\n",
    "ridge_preds = ridge.predict(X_test)"
   ]
  },
  {
   "cell_type": "markdown",
   "id": "0d2dbc1b-1ff7-48bc-85a9-c9a7acc1f2dd",
   "metadata": {},
   "source": [
    "✅ Explanation:\n",
    "\n",
    "- alpha=1.0: Regularization strength.\n",
    "- Ridge penalizes large weights using squared coefficients (L2).\n",
    "- Fit the model and make predictions.\n",
    "\n"
   ]
  },
  {
   "cell_type": "code",
   "execution_count": 7,
   "id": "72c266df-8b9d-4660-ab00-406ab5ff1d3d",
   "metadata": {},
   "outputs": [],
   "source": [
    "# 7. Lasso (L1 Regularization)\n",
    "lasso = Lasso(alpha=1.0)\n",
    "lasso.fit(X_train, y_train)\n",
    "lasso_preds = lasso.predict(X_test)"
   ]
  },
  {
   "cell_type": "code",
   "execution_count": 8,
   "id": "945ced9c-5e35-45ca-b30e-939d4b671379",
   "metadata": {},
   "outputs": [
    {
     "name": "stdout",
     "output_type": "stream",
     "text": [
      "Ridge MSE: 1756474279575.285\n",
      "Ridge R^2: 0.6524978002155009\n",
      "Lasso MSE: 1754321267747.6252\n",
      "Lasso R^2: 0.6529237537036754\n"
     ]
    }
   ],
   "source": [
    "# 8. Evaluate Performance\n",
    "print(\"Ridge MSE:\", mean_squared_error(y_test, ridge_preds))\n",
    "print(\"Ridge R^2:\", r2_score(y_test, ridge_preds))\n",
    "\n",
    "print(\"Lasso MSE:\", mean_squared_error(y_test, lasso_preds))\n",
    "print(\"Lasso R^2:\", r2_score(y_test, lasso_preds))"
   ]
  },
  {
   "cell_type": "markdown",
   "id": "619bf68c-c2df-40d1-8c13-4cf61da7e8ec",
   "metadata": {},
   "source": [
    "✅ Explanation:\n",
    "\n",
    "- Lasso penalizes large weights using absolute value of coefficients (L1).\n",
    "- Useful for feature selection because it can zero out less useful features."
   ]
  },
  {
   "cell_type": "code",
   "execution_count": 9,
   "id": "f1c760cd-9b1b-4352-bc06-2d4a922a8f75",
   "metadata": {},
   "outputs": [],
   "source": [
    "# 9. View Coefficients\n",
    "ridge_coefs = pd.Series(ridge.coef_, index=X.columns)\n",
    "lasso_coefs = pd.Series(lasso.coef_, index=X.columns)"
   ]
  },
  {
   "cell_type": "markdown",
   "id": "a1541a52-502d-4508-843e-02595374aa1e",
   "metadata": {},
   "source": [
    "✅ Explanation:\n",
    "\n",
    "- MSE (Mean Squared Error): Lower is better.\n",
    "- R² Score: Closer to 1 is better. Shows how much variance is explained."
   ]
  },
  {
   "cell_type": "code",
   "execution_count": 10,
   "id": "e4d69dd6-4742-4462-adc8-37163cd56b9e",
   "metadata": {},
   "outputs": [],
   "source": [
    "df = pd.DataFrame({\n",
    "    'Ridge Coefficients': ridge_coefs,\n",
    "    'Lasso Coefficients': lasso_coefs\n",
    "})"
   ]
  },
  {
   "cell_type": "code",
   "execution_count": 11,
   "id": "ec798632-03e0-4fc5-a23c-b52c5b12621f",
   "metadata": {},
   "outputs": [
    {
     "data": {
      "text/html": [
       "<div>\n",
       "<style scoped>\n",
       "    .dataframe tbody tr th:only-of-type {\n",
       "        vertical-align: middle;\n",
       "    }\n",
       "\n",
       "    .dataframe tbody tr th {\n",
       "        vertical-align: top;\n",
       "    }\n",
       "\n",
       "    .dataframe thead th {\n",
       "        text-align: right;\n",
       "    }\n",
       "</style>\n",
       "<table border=\"1\" class=\"dataframe\">\n",
       "  <thead>\n",
       "    <tr style=\"text-align: right;\">\n",
       "      <th></th>\n",
       "      <th>Ridge Coefficients</th>\n",
       "      <th>Lasso Coefficients</th>\n",
       "    </tr>\n",
       "  </thead>\n",
       "  <tbody>\n",
       "    <tr>\n",
       "      <th>area</th>\n",
       "      <td>2.371834e+02</td>\n",
       "      <td>2.359699e+02</td>\n",
       "    </tr>\n",
       "    <tr>\n",
       "      <th>bedrooms</th>\n",
       "      <td>7.980716e+04</td>\n",
       "      <td>7.677810e+04</td>\n",
       "    </tr>\n",
       "    <tr>\n",
       "      <th>bathrooms</th>\n",
       "      <td>1.082243e+06</td>\n",
       "      <td>1.094442e+06</td>\n",
       "    </tr>\n",
       "    <tr>\n",
       "      <th>stories</th>\n",
       "      <td>4.095070e+05</td>\n",
       "      <td>4.074776e+05</td>\n",
       "    </tr>\n",
       "    <tr>\n",
       "      <th>parking</th>\n",
       "      <td>2.266541e+05</td>\n",
       "      <td>2.248421e+05</td>\n",
       "    </tr>\n",
       "    <tr>\n",
       "      <th>mainroad_yes</th>\n",
       "      <td>3.624757e+05</td>\n",
       "      <td>3.679131e+05</td>\n",
       "    </tr>\n",
       "    <tr>\n",
       "      <th>guestroom_yes</th>\n",
       "      <td>2.311725e+05</td>\n",
       "      <td>2.316052e+05</td>\n",
       "    </tr>\n",
       "    <tr>\n",
       "      <th>basement_yes</th>\n",
       "      <td>3.906071e+05</td>\n",
       "      <td>3.902510e+05</td>\n",
       "    </tr>\n",
       "    <tr>\n",
       "      <th>hotwaterheating_yes</th>\n",
       "      <td>6.501729e+05</td>\n",
       "      <td>6.846274e+05</td>\n",
       "    </tr>\n",
       "    <tr>\n",
       "      <th>airconditioning_yes</th>\n",
       "      <td>7.813504e+05</td>\n",
       "      <td>7.914227e+05</td>\n",
       "    </tr>\n",
       "    <tr>\n",
       "      <th>prefarea_yes</th>\n",
       "      <td>6.214089e+05</td>\n",
       "      <td>6.298864e+05</td>\n",
       "    </tr>\n",
       "    <tr>\n",
       "      <th>furnishingstatus_semi-furnished</th>\n",
       "      <td>-1.229817e+05</td>\n",
       "      <td>-1.268727e+05</td>\n",
       "    </tr>\n",
       "    <tr>\n",
       "      <th>furnishingstatus_unfurnished</th>\n",
       "      <td>-4.092961e+05</td>\n",
       "      <td>-4.136367e+05</td>\n",
       "    </tr>\n",
       "  </tbody>\n",
       "</table>\n",
       "</div>"
      ],
      "text/plain": [
       "                                 Ridge Coefficients  Lasso Coefficients\n",
       "area                                   2.371834e+02        2.359699e+02\n",
       "bedrooms                               7.980716e+04        7.677810e+04\n",
       "bathrooms                              1.082243e+06        1.094442e+06\n",
       "stories                                4.095070e+05        4.074776e+05\n",
       "parking                                2.266541e+05        2.248421e+05\n",
       "mainroad_yes                           3.624757e+05        3.679131e+05\n",
       "guestroom_yes                          2.311725e+05        2.316052e+05\n",
       "basement_yes                           3.906071e+05        3.902510e+05\n",
       "hotwaterheating_yes                    6.501729e+05        6.846274e+05\n",
       "airconditioning_yes                    7.813504e+05        7.914227e+05\n",
       "prefarea_yes                           6.214089e+05        6.298864e+05\n",
       "furnishingstatus_semi-furnished       -1.229817e+05       -1.268727e+05\n",
       "furnishingstatus_unfurnished          -4.092961e+05       -4.136367e+05"
      ]
     },
     "execution_count": 11,
     "metadata": {},
     "output_type": "execute_result"
    }
   ],
   "source": [
    "df"
   ]
  },
  {
   "cell_type": "code",
   "execution_count": 12,
   "id": "b95f8203-1156-459a-a180-988310a135f7",
   "metadata": {},
   "outputs": [],
   "source": [
    "import matplotlib.pyplot as plt"
   ]
  },
  {
   "cell_type": "code",
   "execution_count": 14,
   "id": "8066afbf-818e-4416-a4d5-5f91ec36b994",
   "metadata": {},
   "outputs": [
    {
     "data": {
      "image/png": "[encoded data removed]",
      "text/plain": [
       "<Figure size 1200x600 with 1 Axes>"
      ]
     },
     "metadata": {},
     "output_type": "display_data"
    }
   ],
   "source": [
    "plt.figure(figsize=(12, 6))\n",
    "ridge_coefs.plot(label='Ridge', style='.-')\n",
    "lasso_coefs.plot(label='Lasso', style='.-')\n",
    "plt.title('Feature Coefficients: Ridge vs Lasso')\n",
    "plt.xlabel(\"Features\")\n",
    "plt.ylabel(\"Coefficient Value\")\n",
    "plt.xticks(rotation=90)\n",
    "plt.legend()\n",
    "plt.grid(True)\n",
    "plt.tight_layout()\n",
    "plt.show()"
   ]
  },
  {
   "cell_type": "code",
   "execution_count": null,
   "id": "215fc391-97bc-4c84-86de-5d33eef6583c",
   "metadata": {},
   "outputs": [],
   "source": []
  }
 ],
 "metadata": {
  "kernelspec": {
   "display_name": "Python 3 (ipykernel)",
   "language": "python",
   "name": "python3"
  },
  "language_info": {
   "codemirror_mode": {
    "name": "ipython",
    "version": 3
   },
   "file_extension": ".py",
   "mimetype": "text/x-python",
   "name": "python",
   "nbconvert_exporter": "python",
   "pygments_lexer": "ipython3",
   "version": "3.13.6"
  },
  "widgets": {
   "application/vnd.jupyter.widget-state+json": {
    "state": {},
    "version_major": 2,
    "version_minor": 0
   }
  }
 },
 "nbformat": 4,
 "nbformat_minor": 5
}
