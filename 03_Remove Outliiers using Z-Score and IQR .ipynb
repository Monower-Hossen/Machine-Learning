{
 "cells": [
  {
   "cell_type": "markdown",
   "id": "827e31b5-1505-4b85-98be-360d33226c22",
   "metadata": {},
   "source": [
    "# 03_Remove Outliers using Z-Score And IQR"
   ]
  },
  {
   "cell_type": "markdown",
   "id": "81079831-2e0e-4e88-849a-0f5120a4bdab",
   "metadata": {},
   "source": [
    "## What is Z-Score?\n",
    "The Z-score tells you how many standard deviations a value is from the mean:\n",
    "\n",
    "                            𝑧 = (x−μ)/σ \n",
    "x = data point\n",
    "μ = mean\n",
    "σ = standard deviation\n",
    "\n",
    "## Rule of Thumb:\n",
    "\n",
    "If ∣z∣>3, the value is typically considered an outlier (can vary depending on context).\n",
    "\n",
    "\n",
    "## Remove Outliers Using Z-Score: \n",
    "1. Calculate the mean and standard deviation.\n",
    "2. Compute the Z-score for each data point.\n",
    "3. Filter out data points with ∣z∣>threshold (usually 3)."
   ]
  },
  {
   "cell_type": "code",
   "execution_count": 1,
   "id": "b5a752e5-49e0-429f-b12d-b619224d9ac8",
   "metadata": {},
   "outputs": [],
   "source": [
    "# Step 1: Import necessary libraries\n",
    "import pandas as pd\n",
    "import numpy as np\n",
    "import seaborn as sns\n",
    "import matplotlib.pyplot as plt"
   ]
  },
  {
   "cell_type": "code",
   "execution_count": 2,
   "id": "7363cd04-b2d0-4146-a6ff-1c427904bf34",
   "metadata": {},
   "outputs": [
    {
     "data": {
      "text/html": [
       "<div>\n",
       "<style scoped>\n",
       "    .dataframe tbody tr th:only-of-type {\n",
       "        vertical-align: middle;\n",
       "    }\n",
       "\n",
       "    .dataframe tbody tr th {\n",
       "        vertical-align: top;\n",
       "    }\n",
       "\n",
       "    .dataframe thead th {\n",
       "        text-align: right;\n",
       "    }\n",
       "</style>\n",
       "<table border=\"1\" class=\"dataframe\">\n",
       "  <thead>\n",
       "    <tr style=\"text-align: right;\">\n",
       "      <th></th>\n",
       "      <th>Duration</th>\n",
       "      <th>Pulse</th>\n",
       "      <th>Maxpulse</th>\n",
       "      <th>Calories</th>\n",
       "    </tr>\n",
       "  </thead>\n",
       "  <tbody>\n",
       "    <tr>\n",
       "      <th>0</th>\n",
       "      <td>60.0</td>\n",
       "      <td>110.0</td>\n",
       "      <td>130.0</td>\n",
       "      <td>409.1</td>\n",
       "    </tr>\n",
       "    <tr>\n",
       "      <th>1</th>\n",
       "      <td>60.0</td>\n",
       "      <td>117.0</td>\n",
       "      <td>145.0</td>\n",
       "      <td>479.0</td>\n",
       "    </tr>\n",
       "    <tr>\n",
       "      <th>2</th>\n",
       "      <td>60.0</td>\n",
       "      <td>103.0</td>\n",
       "      <td>135.0</td>\n",
       "      <td>340.0</td>\n",
       "    </tr>\n",
       "    <tr>\n",
       "      <th>3</th>\n",
       "      <td>45.0</td>\n",
       "      <td>109.0</td>\n",
       "      <td>175.0</td>\n",
       "      <td>282.4</td>\n",
       "    </tr>\n",
       "    <tr>\n",
       "      <th>4</th>\n",
       "      <td>45.0</td>\n",
       "      <td>117.0</td>\n",
       "      <td>148.0</td>\n",
       "      <td>406.0</td>\n",
       "    </tr>\n",
       "  </tbody>\n",
       "</table>\n",
       "</div>"
      ],
      "text/plain": [
       "   Duration  Pulse  Maxpulse  Calories\n",
       "0      60.0  110.0     130.0     409.1\n",
       "1      60.0  117.0     145.0     479.0\n",
       "2      60.0  103.0     135.0     340.0\n",
       "3      45.0  109.0     175.0     282.4\n",
       "4      45.0  117.0     148.0     406.0"
      ]
     },
     "execution_count": 2,
     "metadata": {},
     "output_type": "execute_result"
    }
   ],
   "source": [
    "# Step 2: Load dataset\n",
    "dataset = pd.read_csv(\"data.csv\")\n",
    "dataset.head()"
   ]
  },
  {
   "cell_type": "code",
   "execution_count": 3,
   "id": "b792117f-b5ec-44b8-b327-128b9d8d6236",
   "metadata": {},
   "outputs": [
    {
     "name": "stdout",
     "output_type": "stream",
     "text": [
      "Duration     7\n",
      "Pulse       18\n",
      "Maxpulse    11\n",
      "Calories    16\n",
      "dtype: int64\n"
     ]
    }
   ],
   "source": [
    "# Step 3: Check for missing values\n",
    "print(dataset.isnull().sum())"
   ]
  },
  {
   "cell_type": "code",
   "execution_count": 4,
   "id": "0347beb4-78a2-4cf9-b2c5-2456ae784abe",
   "metadata": {},
   "outputs": [],
   "source": [
    "# It's important to handle missing values before calculating Z-score\n",
    "dataset = dataset.dropna(subset=[\"Pulse\"])  # Only clean 'Pulse' column for now"
   ]
  },
  {
   "cell_type": "code",
   "execution_count": 6,
   "id": "39184f41-07c1-4436-886d-ff50c20d5a95",
   "metadata": {},
   "outputs": [
    {
     "data": {
      "text/html": [
       "<div>\n",
       "<style scoped>\n",
       "    .dataframe tbody tr th:only-of-type {\n",
       "        vertical-align: middle;\n",
       "    }\n",
       "\n",
       "    .dataframe tbody tr th {\n",
       "        vertical-align: top;\n",
       "    }\n",
       "\n",
       "    .dataframe thead th {\n",
       "        text-align: right;\n",
       "    }\n",
       "</style>\n",
       "<table border=\"1\" class=\"dataframe\">\n",
       "  <thead>\n",
       "    <tr style=\"text-align: right;\">\n",
       "      <th></th>\n",
       "      <th>Duration</th>\n",
       "      <th>Pulse</th>\n",
       "      <th>Maxpulse</th>\n",
       "      <th>Calories</th>\n",
       "    </tr>\n",
       "  </thead>\n",
       "  <tbody>\n",
       "    <tr>\n",
       "      <th>count</th>\n",
       "      <td>146.00000</td>\n",
       "      <td>151.000000</td>\n",
       "      <td>149.000000</td>\n",
       "      <td>143.000000</td>\n",
       "    </tr>\n",
       "    <tr>\n",
       "      <th>mean</th>\n",
       "      <td>63.59589</td>\n",
       "      <td>107.125828</td>\n",
       "      <td>133.456376</td>\n",
       "      <td>377.916084</td>\n",
       "    </tr>\n",
       "    <tr>\n",
       "      <th>std</th>\n",
       "      <td>42.48222</td>\n",
       "      <td>13.721178</td>\n",
       "      <td>16.542118</td>\n",
       "      <td>272.923860</td>\n",
       "    </tr>\n",
       "    <tr>\n",
       "      <th>min</th>\n",
       "      <td>15.00000</td>\n",
       "      <td>80.000000</td>\n",
       "      <td>100.000000</td>\n",
       "      <td>50.300000</td>\n",
       "    </tr>\n",
       "    <tr>\n",
       "      <th>25%</th>\n",
       "      <td>45.00000</td>\n",
       "      <td>100.000000</td>\n",
       "      <td>123.000000</td>\n",
       "      <td>252.150000</td>\n",
       "    </tr>\n",
       "    <tr>\n",
       "      <th>50%</th>\n",
       "      <td>60.00000</td>\n",
       "      <td>105.000000</td>\n",
       "      <td>131.000000</td>\n",
       "      <td>319.200000</td>\n",
       "    </tr>\n",
       "    <tr>\n",
       "      <th>75%</th>\n",
       "      <td>60.00000</td>\n",
       "      <td>111.000000</td>\n",
       "      <td>141.000000</td>\n",
       "      <td>388.800000</td>\n",
       "    </tr>\n",
       "    <tr>\n",
       "      <th>max</th>\n",
       "      <td>300.00000</td>\n",
       "      <td>159.000000</td>\n",
       "      <td>184.000000</td>\n",
       "      <td>1860.400000</td>\n",
       "    </tr>\n",
       "  </tbody>\n",
       "</table>\n",
       "</div>"
      ],
      "text/plain": [
       "        Duration       Pulse    Maxpulse     Calories\n",
       "count  146.00000  151.000000  149.000000   143.000000\n",
       "mean    63.59589  107.125828  133.456376   377.916084\n",
       "std     42.48222   13.721178   16.542118   272.923860\n",
       "min     15.00000   80.000000  100.000000    50.300000\n",
       "25%     45.00000  100.000000  123.000000   252.150000\n",
       "50%     60.00000  105.000000  131.000000   319.200000\n",
       "75%     60.00000  111.000000  141.000000   388.800000\n",
       "max    300.00000  159.000000  184.000000  1860.400000"
      ]
     },
     "execution_count": 6,
     "metadata": {},
     "output_type": "execute_result"
    }
   ],
   "source": [
    "dataset.describe()"
   ]
  },
  {
   "cell_type": "code",
   "execution_count": 7,
   "id": "43b19d61-d915-4c70-82fa-e5bbab350b0c",
   "metadata": {},
   "outputs": [],
   "source": [
    "# Step 4: Calculate mean and standard deviation of the 'Pulse' column\n",
    "mean = dataset[\"Pulse\"].mean()\n",
    "std = dataset[\"Pulse\"].std()"
   ]
  },
  {
   "cell_type": "code",
   "execution_count": 8,
   "id": "3c1af2ed-400b-437c-9169-832a39f5d34d",
   "metadata": {},
   "outputs": [],
   "source": [
    "# Step 5: Compute Z-score for each data point\n",
    "dataset[\"z_score\"] = (dataset[\"Pulse\"] - mean) / std"
   ]
  },
  {
   "cell_type": "code",
   "execution_count": 9,
   "id": "2d6a5ab7-f2d0-42bd-ab01-d18fdecabdfc",
   "metadata": {},
   "outputs": [],
   "source": [
    "# Step 6: Filter out outliers where |z| > 3\n",
    "filtered_data = dataset[dataset[\"z_score\"].abs() <= 3]"
   ]
  },
  {
   "cell_type": "code",
   "execution_count": 10,
   "id": "58f2190f-a583-493d-b66a-145ac7f2b5c9",
   "metadata": {},
   "outputs": [],
   "source": [
    "# Step 7: Drop z_score column if no longer needed\n",
    "filtered_data = filtered_data.drop(columns=[\"z_score\"])"
   ]
  },
  {
   "cell_type": "markdown",
   "id": "41de0395-76fe-45de-b42b-e2666eb5756b",
   "metadata": {},
   "source": [
    "🧠 Notes:\n",
    "1. Z-score works best when data is normally distributed.\n",
    "2. For non-normal distributions, use IQR instead.\n",
    "3. You can adjust the threshold (e.g., 2.5 or 4) based on your use case.\n"
   ]
  },
  {
   "cell_type": "code",
   "execution_count": 11,
   "id": "65ff669f-e352-494f-8361-03ea006336fd",
   "metadata": {},
   "outputs": [
    {
     "data": {
      "image/png": "[encoded data removed]",
      "text/plain": [
       "<Figure size 1200x500 with 2 Axes>"
      ]
     },
     "metadata": {},
     "output_type": "display_data"
    }
   ],
   "source": [
    "# Step 8: Visualize before and after\n",
    "plt.figure(figsize=(12, 5))\n",
    "\n",
    "plt.subplot(1, 2, 1)\n",
    "sns.boxplot(x=\"Pulse\", data=dataset)\n",
    "plt.title(\"Before Removing Outliers\")\n",
    "\n",
    "plt.subplot(1, 2, 2)\n",
    "sns.boxplot(x=\"Pulse\", data=filtered_data)\n",
    "plt.title(\"After Removing Outliers\")\n",
    "\n",
    "plt.tight_layout()\n",
    "plt.show()\n"
   ]
  },
  {
   "cell_type": "code",
   "execution_count": null,
   "id": "03e56ba0-b4c2-4635-a73e-ffc69ed84b32",
   "metadata": {},
   "outputs": [],
   "source": []
  },
  {
   "cell_type": "markdown",
   "id": "6aecd83f-64d1-45de-aa22-b2b4fb43ee03",
   "metadata": {},
   "source": [
    "## ✅ What is IQR Method?\n",
    "\n",
    "**IQR (Interquartile Range)** helps detect outliers by focusing on the range between:\n",
    "\n",
    "* **Q1 (25th percentile)**\n",
    "* **Q3 (75th percentile)**\n",
    "\n",
    "### 📌 Outlier Rules:\n",
    "\n",
    "* **IQR = Q3 - Q1**\n",
    "* **Lower Bound = Q1 - 1.5 × IQR**\n",
    "* **Upper Bound = Q3 + 1.5 × IQR**\n",
    "* Any value **outside this range is an outlier**."
   ]
  },
  {
   "cell_type": "code",
   "execution_count": 12,
   "id": "6de91c13-a8ed-4da8-94ab-9f0b6ea34e34",
   "metadata": {},
   "outputs": [],
   "source": [
    "# Step 1: Import necessary libraries\n",
    "import pandas as pd\n",
    "import seaborn as sns\n",
    "import matplotlib.pyplot as plt"
   ]
  },
  {
   "cell_type": "code",
   "execution_count": 13,
   "id": "4b3a40f4-a510-43f9-a5fd-8454e14c8673",
   "metadata": {},
   "outputs": [],
   "source": [
    "# Step 2: Load the dataset\n",
    "dataset = pd.read_csv(\"data.csv\")"
   ]
  },
  {
   "cell_type": "code",
   "execution_count": 14,
   "id": "abdcd497-9acb-437c-933d-f2f380529842",
   "metadata": {},
   "outputs": [],
   "source": [
    "# Step 3: Handle missing values (optional but recommended)\n",
    "# Drop rows where 'Pulse' is missing\n",
    "dataset = dataset.dropna(subset=[\"Pulse\"])"
   ]
  },
  {
   "cell_type": "code",
   "execution_count": 15,
   "id": "ee503f5b-e8ce-4f35-826f-cdf32f40fd32",
   "metadata": {},
   "outputs": [
    {
     "data": {
      "image/png": "[encoded data removed]",
      "text/plain": [
       "<Figure size 640x480 with 1 Axes>"
      ]
     },
     "metadata": {},
     "output_type": "display_data"
    }
   ],
   "source": [
    "# Step 4: Visualize original data\n",
    "sns.boxplot(x=\"Pulse\", data=dataset)\n",
    "plt.title(\"Before Removing Outliers\")\n",
    "plt.show()"
   ]
  },
  {
   "cell_type": "code",
   "execution_count": 16,
   "id": "dd3b4557-1f52-4f21-a93b-2f78857fa907",
   "metadata": {},
   "outputs": [],
   "source": [
    "# Step 5: Calculate Q1, Q3 and IQR for Pulse\n",
    "Q1 = dataset[\"Pulse\"].quantile(0.25)\n",
    "Q3 = dataset[\"Pulse\"].quantile(0.75)\n",
    "IQR = Q3 - Q1"
   ]
  },
  {
   "cell_type": "code",
   "execution_count": 17,
   "id": "3f7c8dc5-d708-4d37-99ee-047cae04ece1",
   "metadata": {},
   "outputs": [
    {
     "name": "stdout",
     "output_type": "stream",
     "text": [
      "IQR = 11.0, Lower Bound = 83.5, Upper Bound = 127.5\n"
     ]
    }
   ],
   "source": [
    "# Step 6: Define lower and upper bounds\n",
    "lower_bound = Q1 - 1.5 * IQR\n",
    "upper_bound = Q3 + 1.5 * IQR\n",
    "\n",
    "print(f\"IQR = {IQR}, Lower Bound = {lower_bound}, Upper Bound = {upper_bound}\")"
   ]
  },
  {
   "cell_type": "code",
   "execution_count": 18,
   "id": "4e8a6c09-418a-4d64-8599-35c6a9e47a58",
   "metadata": {},
   "outputs": [],
   "source": [
    "# Step 7: Remove outliers\n",
    "filtered_data = dataset[(dataset[\"Pulse\"] >= lower_bound) & (dataset[\"Pulse\"] <= upper_bound)]"
   ]
  },
  {
   "cell_type": "code",
   "execution_count": 19,
   "id": "de2959a2-7c73-4894-b762-7e0c4ccbc293",
   "metadata": {},
   "outputs": [
    {
     "data": {
      "image/png": "[encoded data removed]",
      "text/plain": [
       "<Figure size 640x480 with 1 Axes>"
      ]
     },
     "metadata": {},
     "output_type": "display_data"
    }
   ],
   "source": [
    "# Step 8: Visualize cleaned data\n",
    "sns.boxplot(x=\"Pulse\", data=filtered_data)\n",
    "plt.title(\"After Removing Outliers\")\n",
    "plt.show()"
   ]
  },
  {
   "cell_type": "code",
   "execution_count": 20,
   "id": "727ab2c2-6102-44b6-bd3d-c11d914809fe",
   "metadata": {},
   "outputs": [
    {
     "name": "stdout",
     "output_type": "stream",
     "text": [
      "Original dataset shape: (151, 4)\n",
      "Cleaned dataset shape: (136, 4)\n"
     ]
    }
   ],
   "source": [
    "# Step 9: Compare dataset shapes\n",
    "print(\"Original dataset shape:\", dataset.shape)\n",
    "print(\"Cleaned dataset shape:\", filtered_data.shape)"
   ]
  },
  {
   "cell_type": "code",
   "execution_count": null,
   "id": "7d842430-7941-4e97-8cdd-011ad0e41ae5",
   "metadata": {},
   "outputs": [],
   "source": []
  }
 ],
 "metadata": {
  "kernelspec": {
   "display_name": "Python 3 (ipykernel)",
   "language": "python",
   "name": "python3"
  },
  "language_info": {
   "codemirror_mode": {
    "name": "ipython",
    "version": 3
   },
   "file_extension": ".py",
   "mimetype": "text/x-python",
   "name": "python",
   "nbconvert_exporter": "python",
   "pygments_lexer": "ipython3",
   "version": "3.13.5"
  },
  "widgets": {
   "application/vnd.jupyter.widget-state+json": {
    "state": {},
    "version_major": 2,
    "version_minor": 0
   }
  }
 },
 "nbformat": 4,
 "nbformat_minor": 5
}
